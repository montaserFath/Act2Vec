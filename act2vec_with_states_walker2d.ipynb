{
 "cells": [
  {
   "cell_type": "code",
   "execution_count": 1,
   "metadata": {},
   "outputs": [],
   "source": [
    "import torch\n",
    "import torch.nn as nn\n",
    "import torch.nn.functional as F\n",
    "import torch.optim as optim\n",
    "import numpy as np\n",
    "import pandas as pd\n",
    "import matplotlib.pylab as plt\n",
    "import itertools\n",
    "from sklearn.decomposition import PCA\n",
    "from sklearn.neighbors import KNeighborsClassifier\n",
    "from sklearn.cluster import KMeans\n",
    "from sklearn.manifold import TSNE\n",
    "import matplotlib.cm as cm\n",
    "from IPython import display\n",
    "import seaborn as sns\n",
    "import gym"
   ]
  },
  {
   "cell_type": "code",
   "execution_count": 2,
   "metadata": {},
   "outputs": [
    {
     "name": "stdout",
     "output_type": "stream",
     "text": [
      "\u001b[33mWARN: gym.spaces.Box autodetected dtype as <class 'numpy.float32'>. Please provide explicit dtype.\u001b[0m\n",
      "\u001b[33mWARN: gym.spaces.Box autodetected dtype as <class 'numpy.float32'>. Please provide explicit dtype.\u001b[0m\n"
     ]
    },
    {
     "name": "stderr",
     "output_type": "stream",
     "text": [
      "/home/montaser/anaconda3/lib/python3.6/site-packages/gym/envs/registration.py:14: PkgResourcesDeprecationWarning: Parameters to load are deprecated.  Call .resolve and .require separately.\n",
      "  result = entry_point.load(False)\n"
     ]
    }
   ],
   "source": [
    "env = gym.make(\"BipedalWalker-v2\")"
   ]
  },
  {
   "cell_type": "code",
   "execution_count": 51,
   "metadata": {},
   "outputs": [
    {
     "name": "stdout",
     "output_type": "stream",
     "text": [
      "ep=0 , t=62 , reward= -0.429\n",
      "ep=1 , t=152 , reward= -13.495\n",
      "ep=2 , t=499 , reward= -7.855\n",
      "ep=3 , t=45 , reward= -9.783\n",
      "ep=4 , t=499 , reward= -6.424\n",
      "ep=5 , t=113 , reward= -4.374\n",
      "ep=6 , t=72 , reward= -0.452\n",
      "ep=7 , t=84 , reward= -10.063\n",
      "ep=8 , t=66 , reward= -2.247\n",
      "ep=9 , t=128 , reward= -6.438\n"
     ]
    }
   ],
   "source": [
    "n_eps= 10\n",
    "t_steps = 500\n",
    "gamma = 0.99\n",
    "\n",
    "for ep in range (n_eps):\n",
    "    R=0\n",
    "    s = env.reset()\n",
    "    rewards=[]\n",
    "    for t in range (t_steps):\n",
    "        action = env.action_space.sample()\n",
    "        s, r, done, _ = env.step(action)\n",
    "        if done: break\n",
    "        rewards.append(r)\n",
    "    for i in range (len(rewards)):\n",
    "        R += rewards[i]*(gamma**i)\n",
    "    print(\"ep={} , t={} , reward= {:.3f}\".format(ep, t, R))"
   ]
  },
  {
   "cell_type": "code",
   "execution_count": 3,
   "metadata": {},
   "outputs": [],
   "source": [
    "def plot_kmeans (n, n_clusters = 3):\n",
    "    a = (np.arange(-10,11, 4)/10).tolist()\n",
    "    m = torch.load(\"new_Walker2d_model_n={}\".format(n))\n",
    "    inputs = torch.tensor([list(i) for i in itertools.product(a, repeat=4*n)], dtype=torch.float)\n",
    "    embeddings =  m[:8](inputs).detach().numpy()\n",
    "    pca = PCA(n_components=2, svd_solver='full' ).fit_transform(embeddings)\n",
    "    kmean = KMeans(n_clusters= n_clusters).fit_predict(embeddings)\n",
    "    \n",
    "    data = pd.DataFrame(pca)\n",
    "    data.columns = ['x1', 'x2']\n",
    "    data['Clusters'] = pd.Series(kmean, index=data.index)\n",
    "    index = []\n",
    "    means = []\n",
    "    std = []\n",
    "#     for i in range(n):\n",
    "#         index.append(list(np.where(kmean==i)[0]))\n",
    "    for i in range (n_clusters):\n",
    "        index.append(list(np.where(kmean==i)[0]))\n",
    "        \n",
    "        means.append(np.array(torch.mean(inputs[index[i]],0)).tolist())\n",
    "        std.append(np.array(torch.std(inputs[index[i]],0)).tolist())\n",
    "        \n",
    "        w = np.round(means[-1],2).tolist()\n",
    "        c = \",\".join(str(x) for x in w)\n",
    "        data.Clusters.replace([i], [c], inplace=True)\n",
    "    plot = sns.lmplot(data=data, x='x1', y='x2', hue='Clusters', fit_reg=False, legend=True, legend_out=True)\n",
    "#     plot.savefig(\"fig/Walker2d_Clusters={}_n={}\".format(n_clusters,n), dpi=600)\n",
    "    return inputs , means , std"
   ]
  },
  {
   "cell_type": "code",
   "execution_count": 5,
   "metadata": {},
   "outputs": [
    {
     "data": {
      "image/png": "[encoded data removed]",
      "text/plain": [
       "<Figure size 609.5x360 with 1 Axes>"
      ]
     },
     "metadata": {
      "needs_background": "light"
     },
     "output_type": "display_data"
    }
   ],
   "source": [
    "_ , means, std  = plot_kmeans(2,3)"
   ]
  },
  {
   "cell_type": "code",
   "execution_count": 8,
   "metadata": {},
   "outputs": [],
   "source": [
    "def expolare_action_space (cluster_number, means, std):\n",
    "    action = np.zeros(4)\n",
    "    for i in range (4):\n",
    "        action[i] = np.random.normal(means[cluster_number][i], std[cluster_number][i], 1)\n",
    "    return action"
   ]
  },
  {
   "cell_type": "code",
   "execution_count": 43,
   "metadata": {},
   "outputs": [
    {
     "data": {
      "text/plain": [
       "array([-0.38013291,  0.09461362, -1.04496296, -0.58242397])"
      ]
     },
     "execution_count": 43,
     "metadata": {},
     "output_type": "execute_result"
    }
   ],
   "source": [
    "expolare_action_space (0, means, std)"
   ]
  },
  {
   "cell_type": "code",
   "execution_count": 22,
   "metadata": {},
   "outputs": [
    {
     "data": {
      "text/plain": [
       "array([-0.45020117])"
      ]
     },
     "execution_count": 22,
     "metadata": {},
     "output_type": "execute_result"
    }
   ],
   "source": [
    "np.random.normal(means[0][0], std[0][0], 1)"
   ]
  },
  {
   "cell_type": "markdown",
   "metadata": {},
   "source": [
    "# Model"
   ]
  },
  {
   "cell_type": "code",
   "execution_count": 8,
   "metadata": {},
   "outputs": [],
   "source": [
    "model = nn.Sequential(\n",
    "    \n",
    "    nn.Linear(140, 90),\n",
    "    nn.ReLU(),\n",
    "    \n",
    "    nn.Linear(90, 100),\n",
    "    nn.ReLU(),\n",
    "    \n",
    "    nn.Linear(100, 120),\n",
    "    nn.ReLU(),\n",
    "    \n",
    "    nn.Linear(120, 80),\n",
    "    nn.ReLU(),\n",
    "    \n",
    "    nn.Linear(80, 60),\n",
    "    nn.ReLU(),\n",
    "    \n",
    "    nn.Linear(60, 40),\n",
    "    nn.ReLU(),\n",
    "    \n",
    "    nn.Linear(40, 20),\n",
    "    nn.ReLU(),\n",
    "    \n",
    "    nn.Linear(20, 15),\n",
    "    nn.ReLU(),\n",
    "    \n",
    "    nn.Linear(15, 10),\n",
    "    nn.ReLU(),\n",
    "    \n",
    "    nn.Linear(10, 4),\n",
    ")"
   ]
  },
  {
   "cell_type": "code",
   "execution_count": 3,
   "metadata": {},
   "outputs": [],
   "source": [
    "# states_walker2d= np.load(\"states_TRPO_walker2d_6.npy\")[4000:]\n",
    "# actions_walker2d= np.load(\"actions_TRPO_walker2d_6.npy\")[4000:]"
   ]
  },
  {
   "cell_type": "code",
   "execution_count": 4,
   "metadata": {},
   "outputs": [],
   "source": [
    "# new_states = np.zeros((states_walker2d.shape[0],499, 24))\n",
    "# new_actions = np.zeros((actions_walker2d.shape[0],499, 4))\n",
    "\n",
    "# for i in range (states_walker2d.shape[0]):\n",
    "#     new_states[i] = np.delete(states_walker2d[i], 0, axis=0)\n",
    "#     new_actions[i] = np.delete(actions_walker2d[i], 499, axis=0)"
   ]
  },
  {
   "cell_type": "code",
   "execution_count": 6,
   "metadata": {},
   "outputs": [
    {
     "name": "stdout",
     "output_type": "stream",
     "text": [
      "new_states.shape torch.Size([70000, 499, 24])\n",
      "new_actions.shape torch.Size([70000, 499, 4])\n"
     ]
    }
   ],
   "source": [
    "# new_states = torch.tensor(new_states, dtype=torch.float)\n",
    "# new_actions = torch.tensor(new_actions, dtype=torch.float)\n",
    "# print(\"new_states.shape\",new_states.shape)\n",
    "# print(\"new_actions.shape\",new_actions.shape)"
   ]
  },
  {
   "cell_type": "code",
   "execution_count": 2,
   "metadata": {},
   "outputs": [
    {
     "name": "stdout",
     "output_type": "stream",
     "text": [
      "states_walker2d.shape torch.Size([4000, 500, 24])\n",
      "actions_walker2d.shape torch.Size([4000, 500, 4])\n"
     ]
    }
   ],
   "source": [
    "states_walker2d= np.load(\"states_TRPO_walker2d_6.npy\")[:4000]\n",
    "actions_walker2d= np.load(\"actions_TRPO_walker2d_6.npy\")[:4000]\n",
    "states_walker2d = torch.tensor(states_walker2d, dtype=torch.float)\n",
    "actions_walker2d = torch.tensor(actions_walker2d, dtype=torch.float)\n",
    "print(\"states_walker2d.shape\",states_walker2d.shape)\n",
    "print(\"actions_walker2d.shape\",actions_walker2d.shape)"
   ]
  },
  {
   "cell_type": "markdown",
   "metadata": {},
   "source": [
    "# preprocessing"
   ]
  },
  {
   "cell_type": "code",
   "execution_count": 3,
   "metadata": {},
   "outputs": [
    {
     "name": "stdout",
     "output_type": "stream",
     "text": [
      "new_data.shape torch.Size([1946515, 144])\n"
     ]
    }
   ],
   "source": [
    "############ for expert agent ############\n",
    "def pre_processing (states, actions, n=3):\n",
    "    ep, t, state_size = states.shape\n",
    "    _,_, action_space = actions.shape\n",
    "    output = torch.zeros ((ep*(t-n-1), n*(state_size+action_space)+action_space))\n",
    "    index=0\n",
    "    indices = []\n",
    "    for i in range (ep):\n",
    "        for j in range (t-n-1):\n",
    "            output[index, : state_size*n] = states[i, j+1:j+n+1].view(-1)\n",
    "            output[index, state_size*n: ]  = actions[i, j:j+n+1].view(-1)\n",
    "            index+=1\n",
    "    for i in range (output.shape[0]):\n",
    "        if (output[i,n*state_size:] == -1*torch.ones((n+1)*action_space)).all() or (output[i,:state_size] == -1*torch.ones(state_size)).all():\n",
    "            indices.append(i)\n",
    "    cleaned_data = torch.tensor(np.delete(np.array(output), indices, axis=0))\n",
    "    return cleaned_data\n",
    "new_data  = pre_processing(states_walker2d, actions_walker2d, 5)\n",
    "print(\"new_data.shape\",new_data.shape)"
   ]
  },
  {
   "cell_type": "code",
   "execution_count": 4,
   "metadata": {},
   "outputs": [
    {
     "name": "stderr",
     "output_type": "stream",
     "text": [
      "/home/montaser/anaconda3/lib/python3.6/site-packages/ipykernel_launcher.py:2: UserWarning: To copy construct from a tensor, it is recommended to use sourceTensor.clone().detach() or sourceTensor.clone().detach().requires_grad_(True), rather than torch.tensor(sourceTensor).\n",
      "  \n"
     ]
    }
   ],
   "source": [
    "np.random.shuffle(np.array(new_data))\n",
    "new_data = torch.tensor(new_data, dtype=torch.float)"
   ]
  },
  {
   "cell_type": "code",
   "execution_count": 5,
   "metadata": {},
   "outputs": [],
   "source": [
    "# def pre_processing (array, n=3):\n",
    "#     ep, t, _= array.shape\n",
    "#     output = torch.zeros ((ep*(t-n), 4*(n+1)))\n",
    "#     index=0\n",
    "#     indices = []\n",
    "#     for i in range (ep):\n",
    "#         for j in range (t-n):\n",
    "#             output[index] = array[i, j:j+n+1].view(-1)\n",
    "#             index+=1\n",
    "#     for i in range (output.shape[0]):\n",
    "#         if (output[i] == -5*torch.ones(4*(n+1))).any():\n",
    "#             indices.append(i)\n",
    "#     cleaned_data = torch.tensor(np.delete(np.array(output), indices, axis=0))\n",
    "#     return cleaned_data\n",
    "# new_data  = pre_processing(actions_walker2d, 5)\n",
    "# print(\"new_data.shape\",new_data.shape)"
   ]
  },
  {
   "cell_type": "code",
   "execution_count": 6,
   "metadata": {},
   "outputs": [],
   "source": [
    "n_samples = int(0.8*new_data.shape[0])"
   ]
  },
  {
   "cell_type": "code",
   "execution_count": 7,
   "metadata": {},
   "outputs": [
    {
     "name": "stdout",
     "output_type": "stream",
     "text": [
      "training_set torch.Size([1557212, 144])\n",
      "testing_set torch.Size([389303, 144])\n"
     ]
    }
   ],
   "source": [
    "training_set = new_data[:n_samples]\n",
    "testing_set = new_data[n_samples:]\n",
    "print(\"training_set\", training_set.shape)\n",
    "print(\"testing_set\", testing_set.shape)"
   ]
  },
  {
   "cell_type": "markdown",
   "metadata": {},
   "source": [
    "# Train"
   ]
  },
  {
   "cell_type": "code",
   "execution_count": 9,
   "metadata": {},
   "outputs": [
    {
     "name": "stdout",
     "output_type": "stream",
     "text": [
      "[EPOCH]: 149, [LOSS]: 54.757680\n"
     ]
    }
   ],
   "source": [
    "losses = []\n",
    "test_loss = []\n",
    "n_itrations=150\n",
    "batch_size=256\n",
    "loss_function = nn.MSELoss()\n",
    "optimizer = optim.Adam(model.parameters(), lr=0.001)\n",
    "for itr in range (n_itrations):\n",
    "    if itr%50 == 0:\n",
    "        torch.save(model, \"Walker2d_model_with_states_n=5\")        \n",
    "    total_loss = 0\n",
    "    total_acc = []\n",
    "    for b in range (0, training_set.shape[0], batch_size):\n",
    "        y = torch.tensor(training_set[b:b+batch_size, 140:], dtype=torch.float)\n",
    "        y_pred = model(training_set[b:b+batch_size, :140])\n",
    "#         print(\"y_pred\", y_pred)\n",
    "        loss = loss_function(y_pred, y)\n",
    "        total_loss += loss.item()\n",
    "        optimizer.zero_grad()\n",
    "        loss.backward()\n",
    "        optimizer.step()\n",
    "    if itr > 0:\n",
    "        losses.append(total_loss/training_set.shape[0])\n",
    "    print(\"[EPOCH]: %i, [LOSS]: %.6f\" % (itr, total_loss))\n",
    "    display.clear_output(wait=True)\n",
    "    test_loss.append(loss_function(model(testing_set[:,:140]), testing_set[:,140:]).item())"
   ]
  },
  {
   "cell_type": "code",
   "execution_count": 12,
   "metadata": {},
   "outputs": [
    {
     "data": {
      "image/png": "[encoded data removed]",
      "text/plain": [
       "<Figure size 432x288 with 1 Axes>"
      ]
     },
     "metadata": {
      "needs_background": "light"
     },
     "output_type": "display_data"
    }
   ],
   "source": [
    "torch.save(model, \"Walker2d_model_with_states_n=5\")\n",
    "# plt.plot(losses, label=\"Training loss\")\n",
    "plt.plot(test_loss, label=\"Testing loss\")\n",
    "plt.xlabel(\"number of epochs\")\n",
    "plt.ylabel(\"loss\")\n",
    "plt.legend()\n",
    "plt.show()"
   ]
  },
  {
   "cell_type": "markdown",
   "metadata": {},
   "source": [
    "# Test"
   ]
  },
  {
   "cell_type": "code",
   "execution_count": 13,
   "metadata": {},
   "outputs": [
    {
     "name": "stderr",
     "output_type": "stream",
     "text": [
      "/home/montaser/anaconda3/lib/python3.6/site-packages/ipykernel_launcher.py:1: UserWarning: To copy construct from a tensor, it is recommended to use sourceTensor.clone().detach() or sourceTensor.clone().detach().requires_grad_(True), rather than torch.tensor(sourceTensor).\n",
      "  \"\"\"Entry point for launching an IPython kernel.\n"
     ]
    },
    {
     "name": "stdout",
     "output_type": "stream",
     "text": [
      "loss 0.009651079773902893\n"
     ]
    }
   ],
   "source": [
    "y = torch.tensor(testing_set[:, 140:], dtype=torch.float)\n",
    "y_pred = model(testing_set[:, :140])\n",
    "# print(\"y\",y)\n",
    "# print(\"y_pred\",y_pred)\n",
    "print(\"loss\",loss_function(y_pred, y).item())"
   ]
  },
  {
   "cell_type": "code",
   "execution_count": 14,
   "metadata": {},
   "outputs": [],
   "source": [
    "def find_all_combination (n): \n",
    "    a=[-1.0,-0.5,0.0, 1.0,2.0]\n",
    "    return torch.tensor([list(i) for i in itertools.product(a, repeat=4*n)], dtype=torch.float)\n",
    "# def find_all_combination (n):\n",
    "#     combination = torch.zeros((n*n,4*n), dtype=torch.float)\n",
    "#     return torch.tensor([list(i) for i in itertools.product([0.0, 1.0], repeat=4*n)])"
   ]
  },
  {
   "cell_type": "code",
   "execution_count": 15,
   "metadata": {},
   "outputs": [
    {
     "data": {
      "text/plain": [
       "Sequential(\n",
       "  (0): Linear(in_features=140, out_features=90, bias=True)\n",
       "  (1): ReLU()\n",
       "  (2): Linear(in_features=90, out_features=100, bias=True)\n",
       "  (3): ReLU()\n",
       "  (4): Linear(in_features=100, out_features=120, bias=True)\n",
       "  (5): ReLU()\n",
       "  (6): Linear(in_features=120, out_features=80, bias=True)\n",
       "  (7): ReLU()\n",
       ")"
      ]
     },
     "execution_count": 15,
     "metadata": {},
     "output_type": "execute_result"
    }
   ],
   "source": [
    "# m = torch.load( \"act2vec/models/Walker2d_model_n=5\")\n",
    "m= model\n",
    "m[:8]"
   ]
  },
  {
   "cell_type": "code",
   "execution_count": 16,
   "metadata": {},
   "outputs": [],
   "source": [
    "def prepare_inputs (n): \n",
    "    m = -np.ones((1, 28*n))\n",
    "    o2 = -0.5*np.ones((1, 28*n ))\n",
    "    z = np.zeros((1, 28*n ))\n",
    "    o1 = 0.5*np.ones((1, 28*n ))\n",
    "    o = np.ones((1, 28*n ))\n",
    "    zom = torch.tensor(np.concatenate((m, o2, z, o1, o), 0), dtype=torch.float)\n",
    "    return zom"
   ]
  },
  {
   "cell_type": "code",
   "execution_count": 17,
   "metadata": {},
   "outputs": [
    {
     "data": {
      "text/plain": [
       "torch.Size([5, 140])"
      ]
     },
     "execution_count": 17,
     "metadata": {},
     "output_type": "execute_result"
    }
   ],
   "source": [
    "# zom = find_all_combination (4)\n",
    "zom = prepare_inputs (5)\n",
    "zom.shape"
   ]
  },
  {
   "cell_type": "code",
   "execution_count": 18,
   "metadata": {},
   "outputs": [
    {
     "data": {
      "text/plain": [
       "(5, 60)"
      ]
     },
     "execution_count": 18,
     "metadata": {},
     "output_type": "execute_result"
    }
   ],
   "source": [
    "vectors = model[:9](zom).detach().numpy()\n",
    "vectors.shape"
   ]
  },
  {
   "cell_type": "code",
   "execution_count": 19,
   "metadata": {},
   "outputs": [
    {
     "data": {
      "text/plain": [
       "(5, 2)"
      ]
     },
     "execution_count": 19,
     "metadata": {},
     "output_type": "execute_result"
    }
   ],
   "source": [
    "pca = PCA(n_components=2, svd_solver='full' ).fit_transform(vectors)\n",
    "pca.shape"
   ]
  },
  {
   "cell_type": "code",
   "execution_count": 20,
   "metadata": {},
   "outputs": [
    {
     "data": {
      "image/png": "[encoded data removed]",
      "text/plain": [
       "<Figure size 432x288 with 1 Axes>"
      ]
     },
     "metadata": {
      "needs_background": "light"
     },
     "output_type": "display_data"
    }
   ],
   "source": [
    "# for i in range (pca.shape[0]):\n",
    "#     plt.plot(list(pca[i])[0], list(pca[i])[1] ,\"o\", label=\"{}\".format(i))\n",
    "plt.plot(list(pca[0])[0], list(pca[0])[1] ,\"o\", label=\"-1 vector\")\n",
    "plt.plot(list(pca[1])[0], list(pca[1])[1] ,\"o\", label=\"-0.5 vector\")\n",
    "plt.plot(list(pca[2])[0], list(pca[2])[1] ,\"o\", label=\"0 vector\")\n",
    "plt.plot(list(pca[3])[0], list(pca[3])[1] ,\"o\", label=\"+0.5 vector\")\n",
    "plt.plot(list(pca[4])[0], list(pca[4])[1] ,\"o\", label=\"+1 vector\")\n",
    "plt.title(\"Walker2d Actions Embedding with states n=5\")\n",
    "plt.legend()\n",
    "plt.savefig(\"fig/Walker2d_with_states_n=5\", dpi=600)"
   ]
  },
  {
   "cell_type": "code",
   "execution_count": 23,
   "metadata": {},
   "outputs": [
    {
     "data": {
      "text/plain": [
       "Text(0.5, 1.0, 'Kmeans Act2Vec Walker2d n=4')"
      ]
     },
     "execution_count": 23,
     "metadata": {},
     "output_type": "execute_result"
    },
    {
     "data": {
      "image/png": "[encoded data removed]",
      "text/plain": [
       "<Figure size 432x288 with 1 Axes>"
      ]
     },
     "metadata": {
      "needs_background": "light"
     },
     "output_type": "display_data"
    }
   ],
   "source": [
    "kmean = KMeans(n_clusters=2, random_state=0).fit_predict(pca)\n",
    "plt.scatter(pca[:, 0], pca[:, 1], c=kmean)\n",
    "plt.plot(list(pca[0])[0], list(pca[0])[1] ,\"x\", label=\"0 vector\")\n",
    "# plt.plot(list(pca[200])[0], list(pca[200])[1] ,\"x\", label=\"0.5 vector\")\n",
    "plt.plot(list(pca[-1])[0], list(pca[-1])[1] ,\"x\", label=\"1 vector\")\n",
    "plt.legend()\n",
    "plt.title(\"Kmeans Act2Vec Walker2d n=4\")"
   ]
  },
  {
   "cell_type": "code",
   "execution_count": null,
   "metadata": {},
   "outputs": [],
   "source": []
  }
 ],
 "metadata": {
  "kernelspec": {
   "display_name": "Python 3",
   "language": "python",
   "name": "python3"
  },
  "language_info": {
   "codemirror_mode": {
    "name": "ipython",
    "version": 3
   },
   "file_extension": ".py",
   "mimetype": "text/x-python",
   "name": "python",
   "nbconvert_exporter": "python",
   "pygments_lexer": "ipython3",
   "version": "3.6.8"
  }
 },
 "nbformat": 4,
 "nbformat_minor": 4
}
