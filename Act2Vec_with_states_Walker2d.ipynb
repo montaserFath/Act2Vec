{
 "cells": [
  {
   "cell_type": "code",
   "execution_count": 1,
   "metadata": {},
   "outputs": [],
   "source": [
    "import torch\n",
    "import torch.nn as nn\n",
    "import torch.nn.functional as F\n",
    "import torch.optim as optim\n",
    "import numpy as np\n",
    "import matplotlib.pylab as plt\n",
    "import itertools\n",
    "from sklearn.decomposition import PCA\n",
    "from sklearn.neighbors import KNeighborsClassifier\n",
    "from sklearn.cluster import KMeans"
   ]
  },
  {
   "cell_type": "markdown",
   "metadata": {},
   "source": [
    "# Model"
   ]
  },
  {
   "cell_type": "code",
   "execution_count": 8,
   "metadata": {},
   "outputs": [],
   "source": [
    "model = nn.Sequential(\n",
    "    \n",
    "    nn.Linear(56, 90),\n",
    "    nn.ReLU(),\n",
    "    \n",
    "    nn.Linear(90, 100),\n",
    "    nn.ReLU(),\n",
    "    \n",
    "    nn.Linear(100, 120),\n",
    "    nn.ReLU(),\n",
    "    \n",
    "    nn.Linear(120, 80),\n",
    "    nn.ReLU(),\n",
    "    \n",
    "    nn.Linear(80, 60),\n",
    "    nn.ReLU(),\n",
    "    \n",
    "    nn.Linear(60, 40),\n",
    "    nn.ReLU(),\n",
    "    \n",
    "    nn.Linear(40, 20),\n",
    "    nn.ReLU(),\n",
    "    \n",
    "    nn.Linear(20, 15),\n",
    "    nn.ReLU(),\n",
    "    \n",
    "    nn.Linear(15, 10),\n",
    "    nn.ReLU(),\n",
    "    \n",
    "    nn.Linear(10, 4),\n",
    ")"
   ]
  },
  {
   "cell_type": "code",
   "execution_count": 2,
   "metadata": {},
   "outputs": [
    {
     "name": "stdout",
     "output_type": "stream",
     "text": [
      "states_walker2d.shape torch.Size([4000, 500, 24])\n",
      "actions_walker2d.shape torch.Size([4000, 500, 4])\n"
     ]
    }
   ],
   "source": [
    "states_walker2d= np.load(\"states_TRPO_walker2d_6.npy\")[:4000]\n",
    "actions_walker2d= np.load(\"actions_TRPO_walker2d_6.npy\")[:4000]\n",
    "states_walker2d = torch.tensor(states_walker2d, dtype=torch.float)\n",
    "actions_walker2d = torch.tensor(actions_walker2d, dtype=torch.float)\n",
    "print(\"states_walker2d.shape\",states_walker2d.shape)\n",
    "print(\"actions_walker2d.shape\",actions_walker2d.shape)"
   ]
  },
  {
   "cell_type": "markdown",
   "metadata": {},
   "source": [
    "# preprocessing"
   ]
  },
  {
   "cell_type": "code",
   "execution_count": 3,
   "metadata": {},
   "outputs": [
    {
     "name": "stdout",
     "output_type": "stream",
     "text": [
      "new_data.shape torch.Size([1962015, 60])\n"
     ]
    }
   ],
   "source": [
    "############ for expert agent ############\n",
    "def pre_processing (states, actions, n=3):\n",
    "    ep, t, state_size = states.shape\n",
    "    _,_, action_space = actions.shape\n",
    "    output = torch.zeros ((ep*(t-n), n*(state_size+action_space)+action_space))\n",
    "    index=0\n",
    "    indices = []\n",
    "    for i in range (ep):\n",
    "        for j in range (t-n):\n",
    "            output[index, : state_size*n] = states[i, j:j+n].view(-1)\n",
    "            output[index, state_size*n: ]  = actions[i, j:j+n+1].view(-1)\n",
    "            index+=1\n",
    "    for i in range (output.shape[0]):\n",
    "        if (output[i,n*state_size:] == -1*torch.ones((n+1)*action_space)).all() or (output[i,:state_size] == -1*torch.ones(state_size)).all():\n",
    "            indices.append(i)\n",
    "    cleaned_data = torch.tensor(np.delete(np.array(output), indices, axis=0))\n",
    "    return cleaned_data\n",
    "new_data  = pre_processing(states_walker2d, actions_walker2d, 2)\n",
    "print(\"new_data.shape\",new_data.shape)"
   ]
  },
  {
   "cell_type": "code",
   "execution_count": 4,
   "metadata": {},
   "outputs": [
    {
     "name": "stdout",
     "output_type": "stream",
     "text": [
      "new_data.shape torch.Size([1980000, 24])\n"
     ]
    }
   ],
   "source": [
    "# def pre_processing (array, n=3):\n",
    "#     ep, t, _= array.shape\n",
    "#     output = torch.zeros ((ep*(t-n), 4*(n+1)))\n",
    "#     index=0\n",
    "#     indices = []\n",
    "#     for i in range (ep):\n",
    "#         for j in range (t-n):\n",
    "#             output[index] = array[i, j:j+n+1].view(-1)\n",
    "#             index+=1\n",
    "#     for i in range (output.shape[0]):\n",
    "#         if (output[i] == -5*torch.ones(4*(n+1))).any():\n",
    "#             indices.append(i)\n",
    "#     cleaned_data = torch.tensor(np.delete(np.array(output), indices, axis=0))\n",
    "#     return cleaned_data\n",
    "# new_data  = pre_processing(actions_walker2d, 5)\n",
    "# print(\"new_data.shape\",new_data.shape)"
   ]
  },
  {
   "cell_type": "code",
   "execution_count": 5,
   "metadata": {},
   "outputs": [
    {
     "name": "stdout",
     "output_type": "stream",
     "text": [
      "training_set torch.Size([1000000, 60])\n",
      "testing_set torch.Size([962015, 60])\n"
     ]
    }
   ],
   "source": [
    "training_set = new_data[:1000000]\n",
    "testing_set = new_data[1000000:]\n",
    "print(\"training_set\", training_set.shape)\n",
    "print(\"testing_set\", testing_set.shape)"
   ]
  },
  {
   "cell_type": "markdown",
   "metadata": {},
   "source": [
    "# Train"
   ]
  },
  {
   "cell_type": "code",
   "execution_count": 9,
   "metadata": {},
   "outputs": [
    {
     "name": "stderr",
     "output_type": "stream",
     "text": [
      "/home/montaser/anaconda3/lib/python3.7/site-packages/ipykernel_launcher.py:12: UserWarning: To copy construct from a tensor, it is recommended to use sourceTensor.clone().detach() or sourceTensor.clone().detach().requires_grad_(True), rather than torch.tensor(sourceTensor).\n",
      "  if sys.path[0] == '':\n"
     ]
    },
    {
     "name": "stdout",
     "output_type": "stream",
     "text": [
      "[EPOCH]: 0, [LOSS]: 498.902641\n",
      "[EPOCH]: 1, [LOSS]: 174.380457\n",
      "[EPOCH]: 2, [LOSS]: 120.454557\n",
      "[EPOCH]: 3, [LOSS]: 102.169704\n",
      "[EPOCH]: 4, [LOSS]: 90.871937\n",
      "[EPOCH]: 5, [LOSS]: 83.125061\n",
      "[EPOCH]: 6, [LOSS]: 77.346288\n",
      "[EPOCH]: 7, [LOSS]: 72.853976\n",
      "[EPOCH]: 8, [LOSS]: 69.410129\n",
      "[EPOCH]: 9, [LOSS]: 66.678839\n",
      "[EPOCH]: 10, [LOSS]: 64.543614\n",
      "[EPOCH]: 11, [LOSS]: 62.769474\n",
      "[EPOCH]: 12, [LOSS]: 61.313274\n",
      "[EPOCH]: 13, [LOSS]: 60.030994\n",
      "[EPOCH]: 14, [LOSS]: 58.979450\n",
      "[EPOCH]: 15, [LOSS]: 58.040438\n",
      "[EPOCH]: 16, [LOSS]: 57.247817\n",
      "[EPOCH]: 17, [LOSS]: 56.504905\n",
      "[EPOCH]: 18, [LOSS]: 55.876664\n",
      "[EPOCH]: 19, [LOSS]: 55.286737\n",
      "[EPOCH]: 20, [LOSS]: 54.751120\n",
      "[EPOCH]: 21, [LOSS]: 54.269134\n",
      "[EPOCH]: 22, [LOSS]: 53.870065\n",
      "[EPOCH]: 23, [LOSS]: 53.449668\n",
      "[EPOCH]: 24, [LOSS]: 53.033118\n",
      "[EPOCH]: 25, [LOSS]: 52.619356\n",
      "[EPOCH]: 26, [LOSS]: 52.265742\n",
      "[EPOCH]: 27, [LOSS]: 51.933586\n",
      "[EPOCH]: 28, [LOSS]: 51.608362\n",
      "[EPOCH]: 29, [LOSS]: 51.327458\n",
      "[EPOCH]: 30, [LOSS]: 51.045944\n",
      "[EPOCH]: 31, [LOSS]: 50.834986\n",
      "[EPOCH]: 32, [LOSS]: 50.539642\n",
      "[EPOCH]: 33, [LOSS]: 50.357311\n",
      "[EPOCH]: 34, [LOSS]: 50.119515\n",
      "[EPOCH]: 35, [LOSS]: 49.944565\n",
      "[EPOCH]: 36, [LOSS]: 49.701830\n",
      "[EPOCH]: 37, [LOSS]: 49.552449\n",
      "[EPOCH]: 38, [LOSS]: 49.357625\n",
      "[EPOCH]: 39, [LOSS]: 49.208815\n",
      "[EPOCH]: 40, [LOSS]: 49.077372\n",
      "[EPOCH]: 41, [LOSS]: 48.944671\n",
      "[EPOCH]: 42, [LOSS]: 48.768608\n",
      "[EPOCH]: 43, [LOSS]: 48.653583\n",
      "[EPOCH]: 44, [LOSS]: 48.534148\n",
      "[EPOCH]: 45, [LOSS]: 48.375753\n",
      "[EPOCH]: 46, [LOSS]: 48.233793\n",
      "[EPOCH]: 47, [LOSS]: 48.135900\n",
      "[EPOCH]: 48, [LOSS]: 48.072772\n",
      "[EPOCH]: 49, [LOSS]: 47.945078\n",
      "[EPOCH]: 50, [LOSS]: 47.837228\n",
      "[EPOCH]: 51, [LOSS]: 47.749648\n",
      "[EPOCH]: 52, [LOSS]: 47.654341\n",
      "[EPOCH]: 53, [LOSS]: 47.535237\n",
      "[EPOCH]: 54, [LOSS]: 47.411710\n",
      "[EPOCH]: 55, [LOSS]: 47.348134\n",
      "[EPOCH]: 56, [LOSS]: 47.246084\n",
      "[EPOCH]: 57, [LOSS]: 47.194152\n",
      "[EPOCH]: 58, [LOSS]: 47.088305\n",
      "[EPOCH]: 59, [LOSS]: 47.045072\n",
      "[EPOCH]: 60, [LOSS]: 46.931734\n",
      "[EPOCH]: 61, [LOSS]: 46.854418\n",
      "[EPOCH]: 62, [LOSS]: 46.772701\n",
      "[EPOCH]: 63, [LOSS]: 46.759819\n",
      "[EPOCH]: 64, [LOSS]: 46.681603\n",
      "[EPOCH]: 65, [LOSS]: 46.632572\n",
      "[EPOCH]: 66, [LOSS]: 46.503254\n",
      "[EPOCH]: 67, [LOSS]: 46.479837\n",
      "[EPOCH]: 68, [LOSS]: 46.397136\n",
      "[EPOCH]: 69, [LOSS]: 46.324347\n",
      "[EPOCH]: 70, [LOSS]: 46.309024\n",
      "[EPOCH]: 71, [LOSS]: 46.225541\n",
      "[EPOCH]: 72, [LOSS]: 46.163644\n",
      "[EPOCH]: 73, [LOSS]: 46.101072\n",
      "[EPOCH]: 74, [LOSS]: 46.047590\n",
      "[EPOCH]: 75, [LOSS]: 46.007842\n",
      "[EPOCH]: 76, [LOSS]: 45.953114\n",
      "[EPOCH]: 77, [LOSS]: 45.955854\n",
      "[EPOCH]: 78, [LOSS]: 45.873951\n",
      "[EPOCH]: 79, [LOSS]: 45.823019\n",
      "[EPOCH]: 80, [LOSS]: 45.767719\n",
      "[EPOCH]: 81, [LOSS]: 45.718518\n",
      "[EPOCH]: 82, [LOSS]: 45.698764\n",
      "[EPOCH]: 83, [LOSS]: 45.687244\n",
      "[EPOCH]: 84, [LOSS]: 45.624173\n",
      "[EPOCH]: 85, [LOSS]: 45.551692\n",
      "[EPOCH]: 86, [LOSS]: 45.535270\n",
      "[EPOCH]: 87, [LOSS]: 45.477266\n",
      "[EPOCH]: 88, [LOSS]: 45.496761\n",
      "[EPOCH]: 89, [LOSS]: 45.444690\n",
      "[EPOCH]: 90, [LOSS]: 45.369321\n",
      "[EPOCH]: 91, [LOSS]: 45.362289\n",
      "[EPOCH]: 92, [LOSS]: 45.326246\n",
      "[EPOCH]: 93, [LOSS]: 45.293314\n",
      "[EPOCH]: 94, [LOSS]: 45.297804\n",
      "[EPOCH]: 95, [LOSS]: 45.263794\n",
      "[EPOCH]: 96, [LOSS]: 45.264972\n",
      "[EPOCH]: 97, [LOSS]: 45.151788\n",
      "[EPOCH]: 98, [LOSS]: 45.134019\n",
      "[EPOCH]: 99, [LOSS]: 45.111417\n",
      "[EPOCH]: 100, [LOSS]: 45.185649\n",
      "[EPOCH]: 101, [LOSS]: 45.039720\n",
      "[EPOCH]: 102, [LOSS]: 45.000396\n",
      "[EPOCH]: 103, [LOSS]: 44.984574\n",
      "[EPOCH]: 104, [LOSS]: 44.949731\n",
      "[EPOCH]: 105, [LOSS]: 44.919792\n",
      "[EPOCH]: 106, [LOSS]: 44.926262\n",
      "[EPOCH]: 107, [LOSS]: 44.883388\n",
      "[EPOCH]: 108, [LOSS]: 44.837711\n",
      "[EPOCH]: 109, [LOSS]: 44.800927\n",
      "[EPOCH]: 110, [LOSS]: 44.786505\n",
      "[EPOCH]: 111, [LOSS]: 44.774637\n",
      "[EPOCH]: 112, [LOSS]: 44.741048\n",
      "[EPOCH]: 113, [LOSS]: 44.745968\n",
      "[EPOCH]: 114, [LOSS]: 44.740653\n",
      "[EPOCH]: 115, [LOSS]: 44.721613\n",
      "[EPOCH]: 116, [LOSS]: 44.674535\n",
      "[EPOCH]: 117, [LOSS]: 44.630641\n",
      "[EPOCH]: 118, [LOSS]: 44.625102\n",
      "[EPOCH]: 119, [LOSS]: 44.584913\n",
      "[EPOCH]: 120, [LOSS]: 44.548928\n",
      "[EPOCH]: 121, [LOSS]: 44.549942\n",
      "[EPOCH]: 122, [LOSS]: 44.533269\n",
      "[EPOCH]: 123, [LOSS]: 44.538753\n",
      "[EPOCH]: 124, [LOSS]: 44.507167\n",
      "[EPOCH]: 125, [LOSS]: 44.450852\n",
      "[EPOCH]: 126, [LOSS]: 44.475263\n",
      "[EPOCH]: 127, [LOSS]: 44.448841\n",
      "[EPOCH]: 128, [LOSS]: 44.408945\n",
      "[EPOCH]: 129, [LOSS]: 44.385822\n",
      "[EPOCH]: 130, [LOSS]: 44.361503\n",
      "[EPOCH]: 131, [LOSS]: 44.391885\n",
      "[EPOCH]: 132, [LOSS]: 44.383345\n",
      "[EPOCH]: 133, [LOSS]: 44.340571\n",
      "[EPOCH]: 134, [LOSS]: 44.292206\n",
      "[EPOCH]: 135, [LOSS]: 44.307402\n",
      "[EPOCH]: 136, [LOSS]: 44.257709\n",
      "[EPOCH]: 137, [LOSS]: 44.260470\n",
      "[EPOCH]: 138, [LOSS]: 44.244424\n",
      "[EPOCH]: 139, [LOSS]: 44.196822\n",
      "[EPOCH]: 140, [LOSS]: 44.176409\n",
      "[EPOCH]: 141, [LOSS]: 44.176604\n",
      "[EPOCH]: 142, [LOSS]: 44.159206\n",
      "[EPOCH]: 143, [LOSS]: 44.128940\n",
      "[EPOCH]: 144, [LOSS]: 44.108888\n",
      "[EPOCH]: 145, [LOSS]: 44.105080\n",
      "[EPOCH]: 146, [LOSS]: 44.049123\n",
      "[EPOCH]: 147, [LOSS]: 44.082945\n",
      "[EPOCH]: 148, [LOSS]: 44.045690\n",
      "[EPOCH]: 149, [LOSS]: 44.030843\n",
      "[EPOCH]: 150, [LOSS]: 43.989063\n",
      "[EPOCH]: 151, [LOSS]: 44.015696\n",
      "[EPOCH]: 152, [LOSS]: 43.980850\n",
      "[EPOCH]: 153, [LOSS]: 43.995427\n",
      "[EPOCH]: 154, [LOSS]: 43.945871\n",
      "[EPOCH]: 155, [LOSS]: 43.961807\n",
      "[EPOCH]: 156, [LOSS]: 43.921323\n",
      "[EPOCH]: 157, [LOSS]: 43.903381\n",
      "[EPOCH]: 158, [LOSS]: 43.903538\n",
      "[EPOCH]: 159, [LOSS]: 43.889542\n",
      "[EPOCH]: 160, [LOSS]: 43.839436\n",
      "[EPOCH]: 161, [LOSS]: 43.893279\n",
      "[EPOCH]: 162, [LOSS]: 43.892251\n",
      "[EPOCH]: 163, [LOSS]: 43.870691\n",
      "[EPOCH]: 164, [LOSS]: 43.836651\n",
      "[EPOCH]: 165, [LOSS]: 43.817932\n",
      "[EPOCH]: 166, [LOSS]: 43.795559\n",
      "[EPOCH]: 167, [LOSS]: 43.764930\n",
      "[EPOCH]: 168, [LOSS]: 43.796805\n",
      "[EPOCH]: 169, [LOSS]: 43.779034\n",
      "[EPOCH]: 170, [LOSS]: 43.736549\n",
      "[EPOCH]: 171, [LOSS]: 43.708977\n",
      "[EPOCH]: 172, [LOSS]: 43.696595\n",
      "[EPOCH]: 173, [LOSS]: 43.690332\n",
      "[EPOCH]: 174, [LOSS]: 43.681985\n",
      "[EPOCH]: 175, [LOSS]: 43.681094\n",
      "[EPOCH]: 176, [LOSS]: 43.675612\n",
      "[EPOCH]: 177, [LOSS]: 43.627279\n",
      "[EPOCH]: 178, [LOSS]: 43.630370\n",
      "[EPOCH]: 179, [LOSS]: 43.607251\n",
      "[EPOCH]: 180, [LOSS]: 43.586296\n",
      "[EPOCH]: 181, [LOSS]: 43.605116\n",
      "[EPOCH]: 182, [LOSS]: 43.562143\n",
      "[EPOCH]: 183, [LOSS]: 43.604128\n",
      "[EPOCH]: 184, [LOSS]: 43.583097\n",
      "[EPOCH]: 185, [LOSS]: 43.541759\n",
      "[EPOCH]: 186, [LOSS]: 43.508823\n",
      "[EPOCH]: 187, [LOSS]: 43.566241\n",
      "[EPOCH]: 188, [LOSS]: 43.520218\n",
      "[EPOCH]: 189, [LOSS]: 43.692100\n",
      "[EPOCH]: 190, [LOSS]: 43.506489\n",
      "[EPOCH]: 191, [LOSS]: 43.524900\n",
      "[EPOCH]: 192, [LOSS]: 43.520298\n",
      "[EPOCH]: 193, [LOSS]: 43.438368\n",
      "[EPOCH]: 194, [LOSS]: 43.485000\n",
      "[EPOCH]: 195, [LOSS]: 43.448950\n",
      "[EPOCH]: 196, [LOSS]: 43.481725\n",
      "[EPOCH]: 197, [LOSS]: 43.444435\n",
      "[EPOCH]: 198, [LOSS]: 43.392619\n",
      "[EPOCH]: 199, [LOSS]: 43.400145\n",
      "[EPOCH]: 200, [LOSS]: 43.387161\n",
      "[EPOCH]: 201, [LOSS]: 43.435206\n",
      "[EPOCH]: 202, [LOSS]: 43.388802\n",
      "[EPOCH]: 203, [LOSS]: 43.345484\n",
      "[EPOCH]: 204, [LOSS]: 43.349306\n",
      "[EPOCH]: 205, [LOSS]: 43.340628\n",
      "[EPOCH]: 206, [LOSS]: 43.359188\n",
      "[EPOCH]: 207, [LOSS]: 43.336884\n",
      "[EPOCH]: 208, [LOSS]: 43.342791\n",
      "[EPOCH]: 209, [LOSS]: 43.309003\n",
      "[EPOCH]: 210, [LOSS]: 43.287518\n",
      "[EPOCH]: 211, [LOSS]: 43.342938\n",
      "[EPOCH]: 212, [LOSS]: 43.279771\n",
      "[EPOCH]: 213, [LOSS]: 43.259155\n",
      "[EPOCH]: 214, [LOSS]: 43.288488\n",
      "[EPOCH]: 215, [LOSS]: 43.305276\n",
      "[EPOCH]: 216, [LOSS]: 43.254691\n",
      "[EPOCH]: 217, [LOSS]: 43.227882\n",
      "[EPOCH]: 218, [LOSS]: 43.238083\n",
      "[EPOCH]: 219, [LOSS]: 43.210516\n",
      "[EPOCH]: 220, [LOSS]: 43.208117\n",
      "[EPOCH]: 221, [LOSS]: 43.234961\n",
      "[EPOCH]: 222, [LOSS]: 43.231979\n",
      "[EPOCH]: 223, [LOSS]: 43.181787\n",
      "[EPOCH]: 224, [LOSS]: 43.158094\n",
      "[EPOCH]: 225, [LOSS]: 43.176477\n",
      "[EPOCH]: 226, [LOSS]: 43.253511\n",
      "[EPOCH]: 227, [LOSS]: 43.155670\n",
      "[EPOCH]: 228, [LOSS]: 43.125762\n",
      "[EPOCH]: 229, [LOSS]: 43.132552\n",
      "[EPOCH]: 230, [LOSS]: 43.139830\n",
      "[EPOCH]: 231, [LOSS]: 43.116480\n",
      "[EPOCH]: 232, [LOSS]: 43.110010\n",
      "[EPOCH]: 233, [LOSS]: 43.146076\n",
      "[EPOCH]: 234, [LOSS]: 43.097429\n",
      "[EPOCH]: 235, [LOSS]: 43.086373\n",
      "[EPOCH]: 236, [LOSS]: 43.090361\n",
      "[EPOCH]: 237, [LOSS]: 43.088633\n",
      "[EPOCH]: 238, [LOSS]: 43.087756\n",
      "[EPOCH]: 239, [LOSS]: 43.052785\n",
      "[EPOCH]: 240, [LOSS]: 43.211543\n",
      "[EPOCH]: 241, [LOSS]: 43.072759\n",
      "[EPOCH]: 242, [LOSS]: 43.047781\n",
      "[EPOCH]: 243, [LOSS]: 43.028668\n",
      "[EPOCH]: 244, [LOSS]: 43.035316\n",
      "[EPOCH]: 245, [LOSS]: 43.049120\n",
      "[EPOCH]: 246, [LOSS]: 43.001076\n",
      "[EPOCH]: 247, [LOSS]: 43.006245\n",
      "[EPOCH]: 248, [LOSS]: 42.995891\n",
      "[EPOCH]: 249, [LOSS]: 43.003997\n",
      "[EPOCH]: 250, [LOSS]: 42.973566\n",
      "[EPOCH]: 251, [LOSS]: 42.972253\n",
      "[EPOCH]: 252, [LOSS]: 42.950654\n",
      "[EPOCH]: 253, [LOSS]: 42.975431\n",
      "[EPOCH]: 254, [LOSS]: 42.960550\n",
      "[EPOCH]: 255, [LOSS]: 42.974093\n",
      "[EPOCH]: 256, [LOSS]: 42.940321\n",
      "[EPOCH]: 257, [LOSS]: 42.930204\n",
      "[EPOCH]: 258, [LOSS]: 42.924582\n",
      "[EPOCH]: 259, [LOSS]: 42.937428\n",
      "[EPOCH]: 260, [LOSS]: 42.915132\n",
      "[EPOCH]: 261, [LOSS]: 42.983362\n",
      "[EPOCH]: 262, [LOSS]: 42.908143\n",
      "[EPOCH]: 263, [LOSS]: 42.890935\n",
      "[EPOCH]: 264, [LOSS]: 42.871795\n",
      "[EPOCH]: 265, [LOSS]: 42.868951\n",
      "[EPOCH]: 266, [LOSS]: 42.865784\n",
      "[EPOCH]: 267, [LOSS]: 42.861516\n",
      "[EPOCH]: 268, [LOSS]: 42.845816\n",
      "[EPOCH]: 269, [LOSS]: 42.822203\n",
      "[EPOCH]: 270, [LOSS]: 42.857681\n",
      "[EPOCH]: 271, [LOSS]: 42.856817\n",
      "[EPOCH]: 272, [LOSS]: 42.841225\n",
      "[EPOCH]: 273, [LOSS]: 42.838909\n",
      "[EPOCH]: 274, [LOSS]: 42.841688\n",
      "[EPOCH]: 275, [LOSS]: 42.816867\n",
      "[EPOCH]: 276, [LOSS]: 42.828812\n",
      "[EPOCH]: 277, [LOSS]: 42.823844\n",
      "[EPOCH]: 278, [LOSS]: 42.805379\n",
      "[EPOCH]: 279, [LOSS]: 42.816538\n",
      "[EPOCH]: 280, [LOSS]: 42.805589\n",
      "[EPOCH]: 281, [LOSS]: 42.766277\n",
      "[EPOCH]: 282, [LOSS]: 42.766365\n",
      "[EPOCH]: 283, [LOSS]: 42.774862\n",
      "[EPOCH]: 284, [LOSS]: 42.773875\n",
      "[EPOCH]: 285, [LOSS]: 42.767759\n",
      "[EPOCH]: 286, [LOSS]: 42.776973\n",
      "[EPOCH]: 287, [LOSS]: 42.759817\n",
      "[EPOCH]: 288, [LOSS]: 42.762646\n",
      "[EPOCH]: 289, [LOSS]: 42.737547\n",
      "[EPOCH]: 290, [LOSS]: 42.739550\n",
      "[EPOCH]: 291, [LOSS]: 42.737436\n",
      "[EPOCH]: 292, [LOSS]: 42.728143\n",
      "[EPOCH]: 293, [LOSS]: 42.734815\n",
      "[EPOCH]: 294, [LOSS]: 42.714105\n",
      "[EPOCH]: 295, [LOSS]: 42.704892\n",
      "[EPOCH]: 296, [LOSS]: 42.702919\n",
      "[EPOCH]: 297, [LOSS]: 42.686783\n",
      "[EPOCH]: 298, [LOSS]: 42.696754\n",
      "[EPOCH]: 299, [LOSS]: 42.675245\n",
      "[EPOCH]: 300, [LOSS]: 42.660930\n",
      "[EPOCH]: 301, [LOSS]: 42.656078\n",
      "[EPOCH]: 302, [LOSS]: 42.675108\n",
      "[EPOCH]: 303, [LOSS]: 42.638472\n",
      "[EPOCH]: 304, [LOSS]: 42.639635\n",
      "[EPOCH]: 305, [LOSS]: 42.650674\n",
      "[EPOCH]: 306, [LOSS]: 42.715086\n",
      "[EPOCH]: 307, [LOSS]: 42.626756\n",
      "[EPOCH]: 308, [LOSS]: 42.736071\n",
      "[EPOCH]: 309, [LOSS]: 42.646507\n",
      "[EPOCH]: 310, [LOSS]: 42.605411\n",
      "[EPOCH]: 311, [LOSS]: 42.627955\n",
      "[EPOCH]: 312, [LOSS]: 42.642368\n",
      "[EPOCH]: 313, [LOSS]: 42.619263\n",
      "[EPOCH]: 314, [LOSS]: 42.690467\n",
      "[EPOCH]: 315, [LOSS]: 42.617426\n",
      "[EPOCH]: 316, [LOSS]: 42.636016\n",
      "[EPOCH]: 317, [LOSS]: 42.594197\n",
      "[EPOCH]: 318, [LOSS]: 42.570000\n",
      "[EPOCH]: 319, [LOSS]: 42.593481\n",
      "[EPOCH]: 320, [LOSS]: 42.600652\n",
      "[EPOCH]: 321, [LOSS]: 42.581109\n",
      "[EPOCH]: 322, [LOSS]: 42.580087\n",
      "[EPOCH]: 323, [LOSS]: 42.574928\n",
      "[EPOCH]: 324, [LOSS]: 42.557046\n",
      "[EPOCH]: 325, [LOSS]: 42.548448\n",
      "[EPOCH]: 326, [LOSS]: 42.552540\n",
      "[EPOCH]: 327, [LOSS]: 42.538594\n",
      "[EPOCH]: 328, [LOSS]: 42.616626\n",
      "[EPOCH]: 329, [LOSS]: 42.545729\n",
      "[EPOCH]: 330, [LOSS]: 42.515679\n",
      "[EPOCH]: 331, [LOSS]: 42.534321\n",
      "[EPOCH]: 332, [LOSS]: 42.537102\n",
      "[EPOCH]: 333, [LOSS]: 42.519639\n",
      "[EPOCH]: 334, [LOSS]: 42.514918\n",
      "[EPOCH]: 335, [LOSS]: 42.505726\n",
      "[EPOCH]: 336, [LOSS]: 42.511687\n",
      "[EPOCH]: 337, [LOSS]: 42.497479\n",
      "[EPOCH]: 338, [LOSS]: 42.490520\n",
      "[EPOCH]: 339, [LOSS]: 42.487985\n",
      "[EPOCH]: 340, [LOSS]: 42.487641\n",
      "[EPOCH]: 341, [LOSS]: 42.483537\n",
      "[EPOCH]: 342, [LOSS]: 42.485392\n",
      "[EPOCH]: 343, [LOSS]: 42.446259\n",
      "[EPOCH]: 344, [LOSS]: 42.461432\n",
      "[EPOCH]: 345, [LOSS]: 42.460346\n",
      "[EPOCH]: 346, [LOSS]: 42.483720\n",
      "[EPOCH]: 347, [LOSS]: 42.451187\n",
      "[EPOCH]: 348, [LOSS]: 42.440912\n",
      "[EPOCH]: 349, [LOSS]: 42.563596\n",
      "[EPOCH]: 350, [LOSS]: 42.641657\n",
      "[EPOCH]: 351, [LOSS]: 42.429433\n",
      "[EPOCH]: 352, [LOSS]: 42.427639\n",
      "[EPOCH]: 353, [LOSS]: 42.431929\n",
      "[EPOCH]: 354, [LOSS]: 42.440473\n",
      "[EPOCH]: 355, [LOSS]: 42.423633\n",
      "[EPOCH]: 356, [LOSS]: 42.414997\n",
      "[EPOCH]: 357, [LOSS]: 42.414441\n",
      "[EPOCH]: 358, [LOSS]: 42.416690\n",
      "[EPOCH]: 359, [LOSS]: 42.416114\n",
      "[EPOCH]: 360, [LOSS]: 42.416124\n",
      "[EPOCH]: 361, [LOSS]: 42.402201\n",
      "[EPOCH]: 362, [LOSS]: 42.407457\n",
      "[EPOCH]: 363, [LOSS]: 42.395554\n",
      "[EPOCH]: 364, [LOSS]: 42.389934\n",
      "[EPOCH]: 365, [LOSS]: 42.394223\n",
      "[EPOCH]: 366, [LOSS]: 42.372648\n",
      "[EPOCH]: 367, [LOSS]: 42.370599\n",
      "[EPOCH]: 368, [LOSS]: 42.384216\n",
      "[EPOCH]: 369, [LOSS]: 42.361715\n",
      "[EPOCH]: 370, [LOSS]: 42.367624\n",
      "[EPOCH]: 371, [LOSS]: 42.342804\n",
      "[EPOCH]: 372, [LOSS]: 42.455090\n",
      "[EPOCH]: 373, [LOSS]: 42.430638\n",
      "[EPOCH]: 374, [LOSS]: 42.362976\n",
      "[EPOCH]: 375, [LOSS]: 42.344917\n",
      "[EPOCH]: 376, [LOSS]: 42.349903\n",
      "[EPOCH]: 377, [LOSS]: 42.340903\n",
      "[EPOCH]: 378, [LOSS]: 42.339824\n",
      "[EPOCH]: 379, [LOSS]: 42.336838\n",
      "[EPOCH]: 380, [LOSS]: 42.302141\n",
      "[EPOCH]: 381, [LOSS]: 42.312768\n",
      "[EPOCH]: 382, [LOSS]: 42.319449\n",
      "[EPOCH]: 383, [LOSS]: 42.329451\n",
      "[EPOCH]: 384, [LOSS]: 42.318019\n",
      "[EPOCH]: 385, [LOSS]: 42.311478\n",
      "[EPOCH]: 386, [LOSS]: 42.306249\n",
      "[EPOCH]: 387, [LOSS]: 42.286196\n",
      "[EPOCH]: 388, [LOSS]: 42.287380\n",
      "[EPOCH]: 389, [LOSS]: 42.312236\n",
      "[EPOCH]: 390, [LOSS]: 42.308144\n",
      "[EPOCH]: 391, [LOSS]: 42.283551\n",
      "[EPOCH]: 392, [LOSS]: 42.340354\n",
      "[EPOCH]: 393, [LOSS]: 42.356834\n",
      "[EPOCH]: 394, [LOSS]: 42.301038\n",
      "[EPOCH]: 395, [LOSS]: 42.289585\n",
      "[EPOCH]: 396, [LOSS]: 42.265903\n",
      "[EPOCH]: 397, [LOSS]: 42.252254\n",
      "[EPOCH]: 398, [LOSS]: 42.248512\n",
      "[EPOCH]: 399, [LOSS]: 42.250129\n",
      "[EPOCH]: 400, [LOSS]: 42.245947\n",
      "[EPOCH]: 401, [LOSS]: 42.249110\n",
      "[EPOCH]: 402, [LOSS]: 42.258235\n",
      "[EPOCH]: 403, [LOSS]: 42.257216\n",
      "[EPOCH]: 404, [LOSS]: 42.274089\n",
      "[EPOCH]: 405, [LOSS]: 42.282254\n",
      "[EPOCH]: 406, [LOSS]: 42.238391\n",
      "[EPOCH]: 407, [LOSS]: 42.240942\n",
      "[EPOCH]: 408, [LOSS]: 42.224208\n",
      "[EPOCH]: 409, [LOSS]: 42.210000\n",
      "[EPOCH]: 410, [LOSS]: 42.207697\n",
      "[EPOCH]: 411, [LOSS]: 42.242937\n",
      "[EPOCH]: 412, [LOSS]: 42.220397\n",
      "[EPOCH]: 413, [LOSS]: 42.193334\n",
      "[EPOCH]: 414, [LOSS]: 42.217542\n",
      "[EPOCH]: 415, [LOSS]: 42.187086\n",
      "[EPOCH]: 416, [LOSS]: 42.199215\n",
      "[EPOCH]: 417, [LOSS]: 42.198574\n",
      "[EPOCH]: 418, [LOSS]: 42.206244\n",
      "[EPOCH]: 419, [LOSS]: 42.223780\n",
      "[EPOCH]: 420, [LOSS]: 42.290048\n",
      "[EPOCH]: 421, [LOSS]: 42.254912\n",
      "[EPOCH]: 422, [LOSS]: 42.218113\n",
      "[EPOCH]: 423, [LOSS]: 42.203513\n",
      "[EPOCH]: 424, [LOSS]: 42.219300\n",
      "[EPOCH]: 425, [LOSS]: 42.163787\n",
      "[EPOCH]: 426, [LOSS]: 42.207392\n",
      "[EPOCH]: 427, [LOSS]: 42.183477\n",
      "[EPOCH]: 428, [LOSS]: 42.168985\n",
      "[EPOCH]: 429, [LOSS]: 42.165563\n",
      "[EPOCH]: 430, [LOSS]: 42.165795\n",
      "[EPOCH]: 431, [LOSS]: 42.138388\n",
      "[EPOCH]: 432, [LOSS]: 42.181619\n",
      "[EPOCH]: 433, [LOSS]: 42.173832\n",
      "[EPOCH]: 434, [LOSS]: 42.187645\n",
      "[EPOCH]: 435, [LOSS]: 42.214230\n",
      "[EPOCH]: 436, [LOSS]: 42.149587\n",
      "[EPOCH]: 437, [LOSS]: 42.145072\n",
      "[EPOCH]: 438, [LOSS]: 42.136050\n",
      "[EPOCH]: 439, [LOSS]: 42.137206\n",
      "[EPOCH]: 440, [LOSS]: 42.147675\n",
      "[EPOCH]: 441, [LOSS]: 42.224210\n",
      "[EPOCH]: 442, [LOSS]: 42.584961\n",
      "[EPOCH]: 443, [LOSS]: 42.154447\n",
      "[EPOCH]: 444, [LOSS]: 42.152249\n",
      "[EPOCH]: 445, [LOSS]: 42.158591\n",
      "[EPOCH]: 446, [LOSS]: 42.138734\n",
      "[EPOCH]: 447, [LOSS]: 42.109583\n",
      "[EPOCH]: 448, [LOSS]: 42.122651\n",
      "[EPOCH]: 449, [LOSS]: 42.113558\n",
      "[EPOCH]: 450, [LOSS]: 42.106092\n",
      "[EPOCH]: 451, [LOSS]: 42.120744\n",
      "[EPOCH]: 452, [LOSS]: 42.112414\n",
      "[EPOCH]: 453, [LOSS]: 42.107471\n",
      "[EPOCH]: 454, [LOSS]: 42.094404\n",
      "[EPOCH]: 455, [LOSS]: 42.100845\n",
      "[EPOCH]: 456, [LOSS]: 42.092757\n",
      "[EPOCH]: 457, [LOSS]: 42.082519\n",
      "[EPOCH]: 458, [LOSS]: 42.083608\n",
      "[EPOCH]: 459, [LOSS]: 42.102613\n",
      "[EPOCH]: 460, [LOSS]: 42.117269\n",
      "[EPOCH]: 461, [LOSS]: 42.158413\n",
      "[EPOCH]: 462, [LOSS]: 42.092474\n",
      "[EPOCH]: 463, [LOSS]: 42.094228\n",
      "[EPOCH]: 464, [LOSS]: 42.130882\n",
      "[EPOCH]: 465, [LOSS]: 42.047671\n",
      "[EPOCH]: 466, [LOSS]: 42.092353\n",
      "[EPOCH]: 467, [LOSS]: 42.072090\n",
      "[EPOCH]: 468, [LOSS]: 42.063348\n",
      "[EPOCH]: 469, [LOSS]: 42.066012\n",
      "[EPOCH]: 470, [LOSS]: 42.048398\n",
      "[EPOCH]: 471, [LOSS]: 42.061838\n",
      "[EPOCH]: 472, [LOSS]: 42.027521\n",
      "[EPOCH]: 473, [LOSS]: 42.050120\n",
      "[EPOCH]: 474, [LOSS]: 42.046626\n",
      "[EPOCH]: 475, [LOSS]: 42.040453\n",
      "[EPOCH]: 476, [LOSS]: 42.010787\n",
      "[EPOCH]: 477, [LOSS]: 42.026382\n",
      "[EPOCH]: 478, [LOSS]: 42.036292\n",
      "[EPOCH]: 479, [LOSS]: 42.014836\n",
      "[EPOCH]: 480, [LOSS]: 42.037759\n",
      "[EPOCH]: 481, [LOSS]: 42.097814\n",
      "[EPOCH]: 482, [LOSS]: 42.039678\n",
      "[EPOCH]: 483, [LOSS]: 42.033403\n",
      "[EPOCH]: 484, [LOSS]: 42.037739\n",
      "[EPOCH]: 485, [LOSS]: 42.017417\n",
      "[EPOCH]: 486, [LOSS]: 41.991532\n",
      "[EPOCH]: 487, [LOSS]: 42.004218\n",
      "[EPOCH]: 488, [LOSS]: 41.990929\n",
      "[EPOCH]: 489, [LOSS]: 42.030986\n",
      "[EPOCH]: 490, [LOSS]: 42.057139\n",
      "[EPOCH]: 491, [LOSS]: 42.017780\n",
      "[EPOCH]: 492, [LOSS]: 42.006513\n",
      "[EPOCH]: 493, [LOSS]: 41.975287\n",
      "[EPOCH]: 494, [LOSS]: 41.997505\n",
      "[EPOCH]: 495, [LOSS]: 41.992783\n",
      "[EPOCH]: 496, [LOSS]: 41.983314\n",
      "[EPOCH]: 497, [LOSS]: 41.984586\n",
      "[EPOCH]: 498, [LOSS]: 41.973085\n",
      "[EPOCH]: 499, [LOSS]: 41.989663\n"
     ]
    }
   ],
   "source": [
    "losses = []\n",
    "n_itrations=500\n",
    "batch_size=256\n",
    "loss_function = nn.MSELoss()\n",
    "optimizer = optim.Adam(model.parameters(), lr=0.0005)\n",
    "for itr in range (n_itrations):\n",
    "    if itr%50 == 0:\n",
    "        torch.save(model, \"act2vec/models/Walker2d_model_with_states_n=2\")        \n",
    "    total_loss = 0\n",
    "    total_acc = []\n",
    "    for b in range (0, training_set.shape[0], batch_size):\n",
    "        y = torch.tensor(training_set[b:b+batch_size, 56:], dtype=torch.float)\n",
    "        y_pred = model(training_set[b:b+batch_size, 0:56])\n",
    "#         print(\"y_pred\", y_pred)\n",
    "        loss = loss_function(y_pred, y)\n",
    "        total_loss += loss.item()\n",
    "        optimizer.zero_grad()\n",
    "        loss.backward()\n",
    "        optimizer.step()\n",
    "    if itr > 0:\n",
    "        losses.append(total_loss)\n",
    "    print(\"[EPOCH]: %i, [LOSS]: %.6f\" % (itr, total_loss))"
   ]
  },
  {
   "cell_type": "code",
   "execution_count": 10,
   "metadata": {},
   "outputs": [
    {
     "data": {
      "image/png": "[encoded data removed]",
      "text/plain": [
       "<Figure size 432x288 with 1 Axes>"
      ]
     },
     "metadata": {
      "needs_background": "light"
     },
     "output_type": "display_data"
    }
   ],
   "source": [
    "torch.save(model, \"act2vec/models/Walker2d_model_with_states_n=2\")\n",
    "plt.plot(losses)\n",
    "plt.xlabel(\"number of epochs\")\n",
    "plt.ylabel(\"loss\")\n",
    "plt.show()"
   ]
  },
  {
   "cell_type": "markdown",
   "metadata": {},
   "source": [
    "# Test"
   ]
  },
  {
   "cell_type": "code",
   "execution_count": 12,
   "metadata": {},
   "outputs": [
    {
     "name": "stdout",
     "output_type": "stream",
     "text": [
      "y tensor([-0.1442,  1.0097,  0.7080, -0.8217])\n",
      "y_pred tensor([-0.2439,  1.1769,  1.0296, -0.7970], grad_fn=<AddBackward0>)\n",
      "loss 0.03546809405088425\n"
     ]
    },
    {
     "name": "stderr",
     "output_type": "stream",
     "text": [
      "/home/montaser/anaconda3/lib/python3.7/site-packages/ipykernel_launcher.py:1: UserWarning: To copy construct from a tensor, it is recommended to use sourceTensor.clone().detach() or sourceTensor.clone().detach().requires_grad_(True), rather than torch.tensor(sourceTensor).\n",
      "  \"\"\"Entry point for launching an IPython kernel.\n"
     ]
    }
   ],
   "source": [
    "y = torch.tensor(testing_set[85, 56:], dtype=torch.float)\n",
    "y_pred = model(testing_set[85, :56])\n",
    "print(\"y\",y)\n",
    "print(\"y_pred\",y_pred)\n",
    "print(\"loss\",loss_function(y_pred, y).item())"
   ]
  },
  {
   "cell_type": "code",
   "execution_count": 41,
   "metadata": {},
   "outputs": [],
   "source": [
    "def find_all_combination (n): \n",
    "    a=[-1.0,-0.5,0.0, 1.0,2.0]\n",
    "    return torch.tensor([list(i) for i in itertools.product(a, repeat=4*n)], dtype=torch.float)\n",
    "# def find_all_combination (n):\n",
    "#     combination = torch.zeros((n*n,4*n), dtype=torch.float)\n",
    "#     return torch.tensor([list(i) for i in itertools.product([0.0, 1.0], repeat=4*n)])"
   ]
  },
  {
   "cell_type": "code",
   "execution_count": 16,
   "metadata": {},
   "outputs": [
    {
     "data": {
      "text/plain": [
       "Sequential(\n",
       "  (0): Linear(in_features=84, out_features=90, bias=True)\n",
       "  (1): ReLU()\n",
       "  (2): Linear(in_features=90, out_features=100, bias=True)\n",
       "  (3): ReLU()\n",
       "  (4): Linear(in_features=100, out_features=120, bias=True)\n",
       "  (5): ReLU()\n",
       "  (6): Linear(in_features=120, out_features=80, bias=True)\n",
       "  (7): ReLU()\n",
       ")"
      ]
     },
     "execution_count": 16,
     "metadata": {},
     "output_type": "execute_result"
    }
   ],
   "source": [
    "# m = torch.load( \"act2vec/models/Walker2d_model_n=5\")\n",
    "m= model\n",
    "m[:8]"
   ]
  },
  {
   "cell_type": "code",
   "execution_count": 17,
   "metadata": {},
   "outputs": [],
   "source": [
    "def prepare_inputs (n): \n",
    "    m = -np.ones((1, 4*n))\n",
    "    o2 = -0.5*np.ones((1, 4*n ))\n",
    "    z = np.zeros((1, 4*n ))\n",
    "    o1 = 0.5*np.ones((1, 4*n ))\n",
    "    o = np.ones((1, 4*n ))\n",
    "    zom = torch.tensor(np.concatenate((m, o2, z, o1, o), 0), dtype=torch.float)\n",
    "    return zom"
   ]
  },
  {
   "cell_type": "code",
   "execution_count": 19,
   "metadata": {},
   "outputs": [
    {
     "data": {
      "text/plain": [
       "torch.Size([5, 12])"
      ]
     },
     "execution_count": 19,
     "metadata": {},
     "output_type": "execute_result"
    }
   ],
   "source": [
    "# zom = find_all_combination (4)\n",
    "zom = prepare_inputs (3)\n",
    "zom.shape"
   ]
  },
  {
   "cell_type": "code",
   "execution_count": 18,
   "metadata": {},
   "outputs": [
    {
     "data": {
      "text/plain": [
       "(5, 30)"
      ]
     },
     "execution_count": 18,
     "metadata": {},
     "output_type": "execute_result"
    }
   ],
   "source": [
    "vectors = model[:9](zom).detach().numpy()\n",
    "vectors.shape"
   ]
  },
  {
   "cell_type": "code",
   "execution_count": 20,
   "metadata": {},
   "outputs": [
    {
     "data": {
      "text/plain": [
       "(5, 2)"
      ]
     },
     "execution_count": 20,
     "metadata": {},
     "output_type": "execute_result"
    }
   ],
   "source": [
    "pca = PCA(n_components=2, svd_solver='full' ).fit_transform(vectors)\n",
    "pca.shape"
   ]
  },
  {
   "cell_type": "code",
   "execution_count": 21,
   "metadata": {},
   "outputs": [
    {
     "data": {
      "text/plain": [
       "<matplotlib.legend.Legend at 0x7f319e0894d0>"
      ]
     },
     "execution_count": 21,
     "metadata": {},
     "output_type": "execute_result"
    },
    {
     "data": {
      "image/png": "[encoded data removed]",
      "text/plain": [
       "<Figure size 432x288 with 1 Axes>"
      ]
     },
     "metadata": {
      "needs_background": "light"
     },
     "output_type": "display_data"
    }
   ],
   "source": [
    "# for i in range (pca.shape[0]):\n",
    "#     plt.plot(list(pca[i])[0], list(pca[i])[1] ,\"o\", label=\"{}\".format(i))\n",
    "plt.plot(list(pca[0])[0], list(pca[0])[1] ,\"o\", label=\"-1 vector\")\n",
    "plt.plot(list(pca[1])[0], list(pca[1])[1] ,\"o\", label=\"-0.5 vector\")\n",
    "plt.plot(list(pca[2])[0], list(pca[2])[1] ,\"o\", label=\"0 vector\")\n",
    "plt.plot(list(pca[3])[0], list(pca[3])[1] ,\"o\", label=\"+0.5 vector\")\n",
    "plt.plot(list(pca[4])[0], list(pca[4])[1] ,\"o\", label=\"+1 vector\")\n",
    "plt.title(\"Walker2d Actions Embedding n=4\")\n",
    "plt.legend()\n",
    "# plt.savefig(\"fig/Walker2d_n=4\", dpi=600)"
   ]
  },
  {
   "cell_type": "code",
   "execution_count": 23,
   "metadata": {},
   "outputs": [
    {
     "data": {
      "text/plain": [
       "Text(0.5, 1.0, 'Kmeans Act2Vec Walker2d n=4')"
      ]
     },
     "execution_count": 23,
     "metadata": {},
     "output_type": "execute_result"
    },
    {
     "data": {
      "image/png": "[encoded data removed]",
      "text/plain": [
       "<Figure size 432x288 with 1 Axes>"
      ]
     },
     "metadata": {
      "needs_background": "light"
     },
     "output_type": "display_data"
    }
   ],
   "source": [
    "kmean = KMeans(n_clusters=2, random_state=0).fit_predict(pca)\n",
    "plt.scatter(pca[:, 0], pca[:, 1], c=kmean)\n",
    "plt.plot(list(pca[0])[0], list(pca[0])[1] ,\"x\", label=\"0 vector\")\n",
    "# plt.plot(list(pca[200])[0], list(pca[200])[1] ,\"x\", label=\"0.5 vector\")\n",
    "plt.plot(list(pca[-1])[0], list(pca[-1])[1] ,\"x\", label=\"1 vector\")\n",
    "plt.legend()\n",
    "plt.title(\"Kmeans Act2Vec Walker2d n=4\")"
   ]
  },
  {
   "cell_type": "code",
   "execution_count": null,
   "metadata": {},
   "outputs": [],
   "source": []
  }
 ],
 "metadata": {
  "kernelspec": {
   "display_name": "Python 3",
   "language": "python",
   "name": "python3"
  },
  "language_info": {
   "codemirror_mode": {
    "name": "ipython",
    "version": 3
   },
   "file_extension": ".py",
   "mimetype": "text/x-python",
   "name": "python",
   "nbconvert_exporter": "python",
   "pygments_lexer": "ipython3",
   "version": "3.7.4"
  }
 },
 "nbformat": 4,
 "nbformat_minor": 4
}
