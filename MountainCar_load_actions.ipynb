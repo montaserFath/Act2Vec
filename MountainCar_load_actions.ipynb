{
 "cells": [
  {
   "cell_type": "code",
   "execution_count": 1,
   "metadata": {},
   "outputs": [],
   "source": [
    "import torch\n",
    "import torch.nn as nn\n",
    "import torch.nn.functional as F\n",
    "import torch.optim as optim\n",
    "import numpy as np\n",
    "import pandas as pd\n",
    "import matplotlib.pylab as plt\n",
    "import itertools\n",
    "from itertools import compress, product\n",
    "\n",
    "from sklearn.decomposition import PCA\n",
    "from sklearn.mixture import GaussianMixture\n",
    "from sklearn.neighbors import KNeighborsClassifier\n",
    "from sklearn.cluster import KMeans\n",
    "from IPython import display\n",
    "import seaborn as sns"
   ]
  },
  {
   "cell_type": "code",
   "execution_count": 2,
   "metadata": {},
   "outputs": [],
   "source": [
    "model = nn.Sequential(\n",
    "    nn.Linear(15, 5),\n",
    "    nn.ReLU(),\n",
    "    \n",
    "    nn.Linear(5, 10),\n",
    "    nn.ReLU(),\n",
    "    \n",
    "    nn.Linear(10, 15),\n",
    "    nn.ReLU(),\n",
    "    \n",
    "    nn.Linear(15, 20),\n",
    "    nn.ReLU(),\n",
    "    \n",
    "    nn.Linear(20, 15),\n",
    "    nn.ReLU(),\n",
    "    \n",
    "    nn.Linear(15, 10),\n",
    "    nn.ReLU(),\n",
    "    \n",
    "    nn.Linear(10, 5),\n",
    "    nn.ReLU(),\n",
    "    \n",
    "    nn.Linear(5, 3),\n",
    "    nn.Softmax(),\n",
    ")"
   ]
  },
  {
   "cell_type": "code",
   "execution_count": 3,
   "metadata": {},
   "outputs": [
    {
     "name": "stdout",
     "output_type": "stream",
     "text": [
      "states_0_MountainCar.shape torch.Size([5000, 200, 2])\n",
      "actions_0_MountainCar.shape torch.Size([5000, 200, 1])\n"
     ]
    }
   ],
   "source": [
    "actions_0_MountainCar= np.load(\"MountainCar/MountainCar_actions_2.npy\")\n",
    "states_0_MountainCar= np.load(\"MountainCar/MountainCar_states_2.npy\")\n",
    "\n",
    "actions_0_MountainCar = torch.tensor(actions_0_MountainCar, dtype=torch.long)\n",
    "states_0_MountainCar = torch.tensor(states_0_MountainCar, dtype=torch.float)\n",
    "\n",
    "print(\"states_0_MountainCar.shape\",states_0_MountainCar.shape)\n",
    "print(\"actions_0_MountainCar.shape\",actions_0_MountainCar.shape)"
   ]
  },
  {
   "cell_type": "code",
   "execution_count": 4,
   "metadata": {},
   "outputs": [
    {
     "name": "stdout",
     "output_type": "stream",
     "text": [
      "new_data.shape torch.Size([503206, 16])\n"
     ]
    }
   ],
   "source": [
    "# def pre_processing (states, actions, n=3):\n",
    "#     ep, t, state_size = states.shape\n",
    "#     _,_, action_space = actions.shape\n",
    "#     output = torch.zeros ((ep*(t-n-1), n*(state_size+action_space)+action_space))\n",
    "#     index=0\n",
    "#     indices = []\n",
    "#     for i in range (ep):\n",
    "#         for j in range (t-n-1):\n",
    "#             output[index, : state_size*n] = states[i, j+1:j+n+1].view(-1)\n",
    "#             output[index, state_size*n: ]  = actions[i, j:j+n+1].view(-1)\n",
    "#             index+=1\n",
    "#     for i in range (output.shape[0]):\n",
    "#         if (output[i,-1] < torch.zeros((n+1)*action_space)).any():\n",
    "#             indices.append(i)\n",
    "#     cleaned_data = torch.tensor(np.delete(np.array(output), indices, axis=0))\n",
    "#     return cleaned_data\n",
    "# new_data  = pre_processing(states_0_MountainCar, actions_0_MountainCar, 5)\n",
    "# print(\"new_data.shape\",new_data.shape)"
   ]
  },
  {
   "cell_type": "code",
   "execution_count": 4,
   "metadata": {},
   "outputs": [
    {
     "data": {
      "text/plain": [
       "torch.Size([518264, 3])"
      ]
     },
     "execution_count": 4,
     "metadata": {},
     "output_type": "execute_result"
    }
   ],
   "source": [
    "def pre_processing (array, n=3):\n",
    "    ep, t, _= array.shape\n",
    "    output = torch.zeros ((ep*(t-n), n+1))\n",
    "    index=0\n",
    "    indices = []\n",
    "    for i in range (ep):\n",
    "        for j in range (t-n):\n",
    "            output[index] = array[i, j:j+n+1].view(-1)\n",
    "            index+=1\n",
    "    for i in range (output.shape[0]):\n",
    "        if (output[i] < torch.zeros(n+1)).any():\n",
    "            indices.append(i)\n",
    "    cleaned_data = torch.tensor(np.delete(np.array(output), indices, axis=0))\n",
    "    return cleaned_data\n",
    "new_data  = pre_processing(actions_0_MountainCar, 2)\n",
    "new_data.shape"
   ]
  },
  {
   "cell_type": "code",
   "execution_count": 5,
   "metadata": {},
   "outputs": [
    {
     "name": "stderr",
     "output_type": "stream",
     "text": [
      "/home/montaser/anaconda3/lib/python3.6/site-packages/ipykernel_launcher.py:3: UserWarning: To copy construct from a tensor, it is recommended to use sourceTensor.clone().detach() or sourceTensor.clone().detach().requires_grad_(True), rather than torch.tensor(sourceTensor).\n",
      "  This is separate from the ipykernel package so we can avoid doing imports until\n"
     ]
    }
   ],
   "source": [
    "np.random.shuffle(np.array(new_data))\n",
    "\n",
    "new_data= torch.tensor(new_data)"
   ]
  },
  {
   "cell_type": "code",
   "execution_count": 6,
   "metadata": {},
   "outputs": [],
   "source": [
    "n_samples= int(new_data.shape[0]*0.8)"
   ]
  },
  {
   "cell_type": "code",
   "execution_count": 7,
   "metadata": {},
   "outputs": [
    {
     "name": "stdout",
     "output_type": "stream",
     "text": [
      "training_set torch.Size([414611, 3])\n",
      "testing_set torch.Size([103653, 3])\n"
     ]
    }
   ],
   "source": [
    "training_set = new_data[:n_samples]\n",
    "testing_set = new_data[n_samples:]\n",
    "print(\"training_set\", training_set.shape)\n",
    "print(\"testing_set\", testing_set.shape)"
   ]
  },
  {
   "cell_type": "markdown",
   "metadata": {},
   "source": [
    "# traning"
   ]
  },
  {
   "cell_type": "code",
   "execution_count": 8,
   "metadata": {},
   "outputs": [
    {
     "name": "stdout",
     "output_type": "stream",
     "text": [
      "[EPOCH]: 99, [LOSS]: -1467.877841, [ACCURACY]: 0.933\n"
     ]
    }
   ],
   "source": [
    "losses = []\n",
    "test_loss = []\n",
    "n_itrations=100\n",
    "batch_size=256\n",
    "loss_function = nn.NLLLoss()\n",
    "optimizer = optim.Adam(model.parameters(), lr=0.001)\n",
    "for itr in range (n_itrations):\n",
    "    if itr%50 ==0:\n",
    "        torch.save(model, \"MountainCar_model_with_states_n=5\")  \n",
    "    total_loss = 0\n",
    "    total_acc = []\n",
    "    for b in range (0, training_set.shape[0], batch_size):\n",
    "        y = torch.tensor(training_set[b:b+batch_size, -1], dtype=torch.long)\n",
    "        y_pred = model(training_set[b:b+batch_size, :15])\n",
    "        score, predicted = torch.max(y_pred, 1)\n",
    "        acc = (y == predicted).sum().float() / len(y)\n",
    "        total_acc.append(acc)\n",
    "#         print(\"y_pred\", y_pred)\n",
    "        loss = loss_function(y_pred, y)\n",
    "        total_loss += loss.item()\n",
    "        optimizer.zero_grad()\n",
    "        loss.backward()\n",
    "        optimizer.step()\n",
    "    losses.append(total_loss/training_set.shape[0])\n",
    "    print(\"[EPOCH]: %i, [LOSS]: %.6f, [ACCURACY]: %.3f\" % (itr, total_loss, np.mean(np.array(total_acc)) ))\n",
    "    display.clear_output(wait=True)\n",
    "    test_loss.append(loss_function(model(testing_set[:,:15]), torch.tensor(testing_set[:,-1], dtype=torch.long)).item())"
   ]
  },
  {
   "cell_type": "code",
   "execution_count": 10,
   "metadata": {},
   "outputs": [
    {
     "data": {
      "image/png": "[encoded data removed]",
      "text/plain": [
       "<Figure size 432x288 with 1 Axes>"
      ]
     },
     "metadata": {
      "needs_background": "light"
     },
     "output_type": "display_data"
    }
   ],
   "source": [
    "torch.save(model, \"MountainCar_model_with_states_n=5\") \n",
    "# plt.plot(losses, label=\"Training loss\")\n",
    "plt.plot(test_loss, label=\"Testing loss\")\n",
    "plt.xlabel(\"number of epochs\")\n",
    "plt.ylabel(\"loss\")\n",
    "plt.legend()\n",
    "plt.show()"
   ]
  },
  {
   "cell_type": "markdown",
   "metadata": {},
   "source": [
    "# test"
   ]
  },
  {
   "cell_type": "code",
   "execution_count": 11,
   "metadata": {},
   "outputs": [
    {
     "name": "stdout",
     "output_type": "stream",
     "text": [
      "accuracy = 0.9373 \n"
     ]
    },
    {
     "name": "stderr",
     "output_type": "stream",
     "text": [
      "/home/montaser/anaconda3/lib/python3.6/site-packages/ipykernel_launcher.py:1: UserWarning: To copy construct from a tensor, it is recommended to use sourceTensor.clone().detach() or sourceTensor.clone().detach().requires_grad_(True), rather than torch.tensor(sourceTensor).\n",
      "  \"\"\"Entry point for launching an IPython kernel.\n"
     ]
    }
   ],
   "source": [
    "y = torch.tensor(testing_set[:, -1], dtype=torch.long)\n",
    "y_pred = model(testing_set[:, :15])\n",
    "score, predicted = torch.max(y_pred, 1)\n",
    "acc = (y == predicted).sum().float() / len(y)\n",
    "print(\"accuracy = %.4f \"%acc.item())"
   ]
  },
  {
   "cell_type": "markdown",
   "metadata": {},
   "source": [
    "# PCA"
   ]
  },
  {
   "cell_type": "code",
   "execution_count": 6,
   "metadata": {},
   "outputs": [
    {
     "data": {
      "text/plain": [
       "Sequential(\n",
       "  (0): Linear(in_features=3, out_features=5, bias=True)\n",
       "  (1): ReLU()\n",
       "  (2): Linear(in_features=5, out_features=10, bias=True)\n",
       "  (3): ReLU()\n",
       "  (4): Linear(in_features=10, out_features=15, bias=True)\n",
       "  (5): ReLU()\n",
       "  (6): Linear(in_features=15, out_features=20, bias=True)\n",
       "  (7): ReLU()\n",
       ")"
      ]
     },
     "execution_count": 6,
     "metadata": {},
     "output_type": "execute_result"
    }
   ],
   "source": [
    "m = torch.load(\"MountainCar_model_n=3\")\n",
    "m[:8]"
   ]
  },
  {
   "cell_type": "code",
   "execution_count": 18,
   "metadata": {},
   "outputs": [
    {
     "data": {
      "text/plain": [
       "torch.Size([81, 4])"
      ]
     },
     "execution_count": 18,
     "metadata": {},
     "output_type": "execute_result"
    }
   ],
   "source": [
    "s0 = [-1.2, -0.3, 0.6]\n",
    "s1 = [-0.07, -0.0, 0.07]\n",
    "a= [0,1,2]\n",
    "all = []\n",
    "for i in s0:\n",
    "    for j in s1:\n",
    "        for k in a:\n",
    "            for g in a:\n",
    "                all.append([i, j,k, g])\n",
    "torch.tensor(all).shape"
   ]
  },
  {
   "cell_type": "code",
   "execution_count": 37,
   "metadata": {},
   "outputs": [],
   "source": [
    "def prepare_inputs (n): \n",
    "    a=[0, 1,2]\n",
    "    return torch.tensor([list(i) for i in itertools.product(a, repeat=n)], dtype=torch.float)"
   ]
  },
  {
   "cell_type": "code",
   "execution_count": 4,
   "metadata": {},
   "outputs": [],
   "source": [
    "def replace (a):\n",
    "    for i in range(len(a)):\n",
    "        if a[i]==0:\n",
    "            a[i]=\"->\"\n",
    "        elif a[i]==1:\n",
    "            a[i] = \"--\"\n",
    "        elif a[i] == 2:\n",
    "            a[i] = \"<-\"\n",
    "    return a"
   ]
  },
  {
   "cell_type": "code",
   "execution_count": 21,
   "metadata": {},
   "outputs": [],
   "source": [
    "def plot_kmeans (n, n_clusters = 3):\n",
    "    a=[0, 1,2]\n",
    "    m = torch.load(\"MountainCar_model_n={}\".format(n))\n",
    "    inputs = torch.tensor([list(i) for i in itertools.product(a, repeat=n)], dtype=torch.float)\n",
    "    embeddings =  m[:8](inputs).detach().numpy()\n",
    "    pca = PCA(n_components=2, svd_solver='full' ).fit_transform(embeddings)\n",
    "    gmm = GaussianMixture(n_components= n_clusters).fit_predict(embeddings)\n",
    "    kmean = KMeans(n_clusters= n_clusters).fit_predict(embeddings)\n",
    "    \n",
    "    data = pd.DataFrame(pca)\n",
    "    data.columns = ['x1', 'x2']\n",
    "    data['Clusters'] = pd.Series(kmean, index=data.index)\n",
    "    index = []\n",
    "    means = []\n",
    "    std=[]\n",
    "#     for i in range(n):\n",
    "#         index.append(list(np.where(kmean==i)[0]))\n",
    "    for i in range (n_clusters):\n",
    "        index.append(list(np.where(kmean==i)[0]))\n",
    "        means.append(np.array(torch.mean(inputs[index[i]],0), dtype=int).tolist())\n",
    "        std.append(np.array(torch.std(inputs[index[i]],0)).tolist())\n",
    "        \n",
    "        k = replace(means[-1])\n",
    "        c = \", \".join(str(x) for x in k)\n",
    "        data.Clusters.replace([i], [c], inplace=True)\n",
    "\n",
    "#     print(data['Clusters'])\n",
    "    plot = sns.lmplot(data=data, x='x1', y='x2', hue='Clusters', fit_reg=False, legend=True, legend_out=True)\n",
    "    plot.savefig(\"fig/MountainCar_Clusters={}_n={}\".format(n_clusters,n), dpi=600)\n",
    "    return  index , means, std"
   ]
  },
  {
   "cell_type": "code",
   "execution_count": 22,
   "metadata": {},
   "outputs": [
    {
     "data": {
      "image/png": "[encoded data removed]",
      "text/plain": [
       "<Figure size 462.25x360 with 1 Axes>"
      ]
     },
     "metadata": {
      "needs_background": "light"
     },
     "output_type": "display_data"
    }
   ],
   "source": [
    "index , means, std = plot_kmeans(4,4)"
   ]
  },
  {
   "cell_type": "code",
   "execution_count": 89,
   "metadata": {},
   "outputs": [
    {
     "data": {
      "text/plain": [
       "{0, 1, 2}"
      ]
     },
     "execution_count": 89,
     "metadata": {},
     "output_type": "execute_result"
    }
   ],
   "source": [
    "set(np.array([2,1,1,0,]))"
   ]
  },
  {
   "cell_type": "code",
   "execution_count": 48,
   "metadata": {},
   "outputs": [
    {
     "data": {
      "text/plain": [
       "[1.0, 1.0, 1.0, 1.0, 0.0]"
      ]
     },
     "execution_count": 48,
     "metadata": {},
     "output_type": "execute_result"
    }
   ],
   "source": [
    "torch.mean(inputs[index[0]],0).tolist()"
   ]
  },
  {
   "cell_type": "code",
   "execution_count": 43,
   "metadata": {},
   "outputs": [
    {
     "name": "stderr",
     "output_type": "stream",
     "text": [
      "/home/montaser/anaconda3/lib/python3.6/site-packages/ipykernel_launcher.py:1: UserWarning: To copy construct from a tensor, it is recommended to use sourceTensor.clone().detach() or sourceTensor.clone().detach().requires_grad_(True), rather than torch.tensor(sourceTensor).\n",
      "  \"\"\"Entry point for launching an IPython kernel.\n"
     ]
    },
    {
     "data": {
      "text/plain": [
       "tensor([1, 2], dtype=torch.int32)"
      ]
     },
     "execution_count": 43,
     "metadata": {},
     "output_type": "execute_result"
    }
   ],
   "source": [
    "torch.tensor(torch.mean(inputs[index[1]],0), dtype=torch.int)"
   ]
  },
  {
   "cell_type": "code",
   "execution_count": 127,
   "metadata": {},
   "outputs": [],
   "source": [
    "def prepare_inputs (n): \n",
    "    st = np.zeros(n*3+1)\n",
    "#     for i in range (n)\n",
    "    st[:2] = np.random.randint(-7, 7)/100 , np.random.randint(-12, 6)/10\n",
    "    st[2:4] = np.random.randint(-7, 7)/100 , np.random.randint(-12, 6)/10\n",
    "    st[4:] = np.random.randint(0,3), np.random.randint(0,3),np.random.randint(0,3)\n",
    "    return torch.tensor(st)"
   ]
  },
  {
   "cell_type": "code",
   "execution_count": 38,
   "metadata": {},
   "outputs": [
    {
     "data": {
      "text/plain": [
       "torch.Size([81, 4])"
      ]
     },
     "execution_count": 38,
     "metadata": {},
     "output_type": "execute_result"
    }
   ],
   "source": [
    "prepare_inputs(4).shape"
   ]
  },
  {
   "cell_type": "code",
   "execution_count": 39,
   "metadata": {},
   "outputs": [
    {
     "data": {
      "text/plain": [
       "Sequential(\n",
       "  (0): Linear(in_features=4, out_features=5, bias=True)\n",
       "  (1): ReLU()\n",
       "  (2): Linear(in_features=5, out_features=10, bias=True)\n",
       "  (3): ReLU()\n",
       "  (4): Linear(in_features=10, out_features=15, bias=True)\n",
       "  (5): ReLU()\n",
       "  (6): Linear(in_features=15, out_features=20, bias=True)\n",
       "  (7): ReLU()\n",
       ")"
      ]
     },
     "execution_count": 39,
     "metadata": {},
     "output_type": "execute_result"
    }
   ],
   "source": [
    "m = torch.load(\"MountainCar_model_n=4\")\n",
    "m[:8]"
   ]
  },
  {
   "cell_type": "code",
   "execution_count": 40,
   "metadata": {},
   "outputs": [
    {
     "data": {
      "text/plain": [
       "torch.Size([81, 4])"
      ]
     },
     "execution_count": 40,
     "metadata": {},
     "output_type": "execute_result"
    }
   ],
   "source": [
    "zom = prepare_inputs(4)\n",
    "zom.shape"
   ]
  },
  {
   "cell_type": "code",
   "execution_count": 41,
   "metadata": {},
   "outputs": [
    {
     "data": {
      "text/plain": [
       "(81, 20)"
      ]
     },
     "execution_count": 41,
     "metadata": {},
     "output_type": "execute_result"
    }
   ],
   "source": [
    "vectors = m[:8](zom).detach().numpy()\n",
    "vectors.shape"
   ]
  },
  {
   "cell_type": "code",
   "execution_count": 42,
   "metadata": {},
   "outputs": [],
   "source": [
    "pca = PCA(n_components=2, svd_solver='full' ).fit_transform(vectors)\n",
    "gmm = GaussianMixture(n_components=3).fit_predict(vectors)\n",
    "kmean = KMeans(n_clusters=4).fit_predict(vectors)"
   ]
  },
  {
   "cell_type": "code",
   "execution_count": 43,
   "metadata": {},
   "outputs": [
    {
     "data": {
      "text/plain": [
       "'1,2,3'"
      ]
     },
     "execution_count": 43,
     "metadata": {},
     "output_type": "execute_result"
    }
   ],
   "source": [
    "\",\".join(str(x) for x in [1,2,3])"
   ]
  },
  {
   "cell_type": "code",
   "execution_count": 58,
   "metadata": {},
   "outputs": [
    {
     "data": {
      "image/png": "[encoded data removed]",
      "text/plain": [
       "<Figure size 408.75x360 with 1 Axes>"
      ]
     },
     "metadata": {
      "needs_background": "light"
     },
     "output_type": "display_data"
    }
   ],
   "source": [
    "data = pd.DataFrame(pca)\n",
    "data.columns = ['x1', 'x2']\n",
    "data['Clusters'] = pd.Series(kmean, index=data.index)\n",
    "# data['Clusters'] = data['Clusters'].map({1: \"1,22,,3,\"})\n",
    "data.Clusters.replace([0], [12], inplace=True)\n",
    "\n",
    "# data['label'] = data['label'].map({1: \" \".join(str(x) for x in [1,2,3]), 0: \" \".join(str(x) for x in [1,2])})\n",
    "plot = sns.lmplot(data=data, x='x1', y='x2', hue='Clusters', fit_reg=False, legend=True, legend_out=True)\n",
    "# plot.savefig(\"fig/output\", dpi=600)"
   ]
  },
  {
   "cell_type": "code",
   "execution_count": 90,
   "metadata": {},
   "outputs": [
    {
     "data": {
      "text/plain": [
       "{'covariance_type': 'full',\n",
       " 'init_params': 'kmeans',\n",
       " 'max_iter': 100,\n",
       " 'means_init': None,\n",
       " 'n_components': 3,\n",
       " 'n_init': 1,\n",
       " 'precisions_init': None,\n",
       " 'random_state': None,\n",
       " 'reg_covar': 1e-06,\n",
       " 'tol': 0.001,\n",
       " 'verbose': 0,\n",
       " 'verbose_interval': 10,\n",
       " 'warm_start': False,\n",
       " 'weights_init': None}"
      ]
     },
     "execution_count": 90,
     "metadata": {},
     "output_type": "execute_result"
    }
   ],
   "source": [
    "gmm = GaussianMixture(n_components=3)\n",
    "gmm.fit(vectors)\n",
    "gmm.get_params()"
   ]
  },
  {
   "cell_type": "code",
   "execution_count": 72,
   "metadata": {},
   "outputs": [
    {
     "data": {
      "text/plain": [
       "<matplotlib.collections.PathCollection at 0x7fd06e951cc0>"
      ]
     },
     "execution_count": 72,
     "metadata": {},
     "output_type": "execute_result"
    },
    {
     "data": {
      "image/png": "[encoded data removed]",
      "text/plain": [
       "<Figure size 432x288 with 1 Axes>"
      ]
     },
     "metadata": {
      "needs_background": "light"
     },
     "output_type": "display_data"
    }
   ],
   "source": [
    "plt.scatter(pca[:, 0], pca[:, 1], c=gmm)"
   ]
  },
  {
   "cell_type": "markdown",
   "metadata": {},
   "source": [
    "# Kmeans"
   ]
  },
  {
   "cell_type": "code",
   "execution_count": 54,
   "metadata": {},
   "outputs": [
    {
     "data": {
      "text/plain": [
       "tensor([0., 0., 0.])"
      ]
     },
     "execution_count": 54,
     "metadata": {},
     "output_type": "execute_result"
    }
   ],
   "source": [
    "zom[0]"
   ]
  },
  {
   "cell_type": "code",
   "execution_count": 58,
   "metadata": {},
   "outputs": [
    {
     "data": {
      "text/plain": [
       "Text(0.5,1,'Kmeans Act2Vec Walker2d n=5')"
      ]
     },
     "execution_count": 58,
     "metadata": {},
     "output_type": "execute_result"
    },
    {
     "data": {
      "image/png": "[encoded data removed]",
      "text/plain": [
       "<Figure size 432x288 with 1 Axes>"
      ]
     },
     "metadata": {
      "needs_background": "light"
     },
     "output_type": "display_data"
    }
   ],
   "source": [
    "kmean = KMeans(n_clusters=3, random_state=0).fit_predict(pca)\n",
    "plt.scatter(pca[:, 0], pca[:, 1], c=kmean)\n",
    "# for i in range (zom.shape[0]):\n",
    "#     plt.plot(pca[i,0], pca[i,1],\"x\" ,  label=\"{}\".format(zom[i]))\n",
    "# plt.legend()\n",
    "plt.title(\"Kmeans Act2Vec Walker2d n=5\")"
   ]
  },
  {
   "cell_type": "code",
   "execution_count": 17,
   "metadata": {},
   "outputs": [
    {
     "data": {
      "image/png": "[encoded data removed]",
      "text/plain": [
       "<Figure size 432x288 with 1 Axes>"
      ]
     },
     "metadata": {
      "needs_background": "light"
     },
     "output_type": "display_data"
    }
   ],
   "source": [
    "# for i in range (pca.shape[0]):\n",
    "#     plt.plot(list(pca[i])[0], list(pca[i])[1] ,\"o\", label=\"{}\".format(list(np.array(zom[i], dtype=np.int))))\n",
    "plt.plot(list(pca[0])[0], list(pca[0])[1] ,\"o\", label=\"0,0,0\")\n",
    "# plt.plot(list(pca[2])[0], list(pca[1])[1] ,\"o\", label=\"0,0,2\")\n",
    "# plt.plot(list(pca[6])[0], list(pca[3])[1] ,\"o\", label=\"0,2,0\")\n",
    "# plt.plot(list(pca[19])[0], list(pca[3])[1] ,\"o\", label=\"2,0,0\")\n",
    "plt.plot(list(pca[4])[0], list(pca[4])[1] ,\"o\", label=\"1,1,1\")\n",
    "plt.plot(list(pca[-1])[0], list(pca[-1])[1] ,\"o\", label=\"2,2,2\")\n",
    "plt.title(\"MountainCar Actions Embedding with states n=2\")\n",
    "plt.legend()\n",
    "plt.savefig(\"fig/MountainCar_with_states_n=2\", dpi=600)"
   ]
  },
  {
   "cell_type": "code",
   "execution_count": 19,
   "metadata": {},
   "outputs": [
    {
     "data": {
      "text/plain": [
       "<matplotlib.legend.Legend at 0x7f932b94bac8>"
      ]
     },
     "execution_count": 19,
     "metadata": {},
     "output_type": "execute_result"
    },
    {
     "data": {
      "image/png": "[encoded data removed]",
      "text/plain": [
       "<Figure size 432x288 with 1 Axes>"
      ]
     },
     "metadata": {
      "needs_background": "light"
     },
     "output_type": "display_data"
    }
   ],
   "source": [
    "plt.plot(list(pca[0])[0], list(pca[0])[1] ,\"o\", label=\"0,0,0\")\n",
    "plt.plot(list(pca[2])[0], list(pca[1])[1] ,\"o\", label=\"0,0,2\")\n",
    "plt.plot(list(pca[6])[0], list(pca[3])[1] ,\"o\", label=\"0,2,0\")\n",
    "# plt.plot(list(pca[19])[0], list(pca[3])[1] ,\"o\", label=\"2,0,0\")\n",
    "plt.plot(list(pca[-1])[0], list(pca[-1])[1] ,\"o\", label=\"2,2,2\")\n",
    "\n",
    "plt.title(\"MountainCar Actions Embedding n=3\")\n",
    "plt.legend()"
   ]
  },
  {
   "cell_type": "code",
   "execution_count": null,
   "metadata": {},
   "outputs": [],
   "source": []
  }
 ],
 "metadata": {
  "kernelspec": {
   "display_name": "Python 3",
   "language": "python",
   "name": "python3"
  },
  "language_info": {
   "codemirror_mode": {
    "name": "ipython",
    "version": 3
   },
   "file_extension": ".py",
   "mimetype": "text/x-python",
   "name": "python",
   "nbconvert_exporter": "python",
   "pygments_lexer": "ipython3",
   "version": "3.6.8"
  }
 },
 "nbformat": 4,
 "nbformat_minor": 2
}
