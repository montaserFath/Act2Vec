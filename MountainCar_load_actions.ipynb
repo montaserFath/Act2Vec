{
 "cells": [
  {
   "cell_type": "code",
   "execution_count": 1,
   "metadata": {},
   "outputs": [],
   "source": [
    "import torch\n",
    "import torch.nn as nn\n",
    "import torch.nn.functional as F\n",
    "import torch.optim as optim\n",
    "import numpy as np\n",
    "import matplotlib.pylab as plt\n",
    "import itertools\n",
    "from itertools import compress, product\n",
    "\n",
    "from sklearn.decomposition import PCA\n",
    "from sklearn.neighbors import KNeighborsClassifier\n",
    "from sklearn.cluster import KMeans"
   ]
  },
  {
   "cell_type": "code",
   "execution_count": 2,
   "metadata": {},
   "outputs": [],
   "source": [
    "model = nn.Sequential(\n",
    "    nn.Linear(5, 5),\n",
    "    nn.ReLU(),\n",
    "    \n",
    "    nn.Linear(5, 10),\n",
    "    nn.ReLU(),\n",
    "    \n",
    "    nn.Linear(10, 15),\n",
    "    nn.ReLU(),\n",
    "    \n",
    "    nn.Linear(15, 20),\n",
    "    nn.ReLU(),\n",
    "    \n",
    "    nn.Linear(20, 15),\n",
    "    nn.ReLU(),\n",
    "    \n",
    "    nn.Linear(15, 10),\n",
    "    nn.ReLU(),\n",
    "    \n",
    "    nn.Linear(10, 5),\n",
    "    nn.ReLU(),\n",
    "    \n",
    "    nn.Linear(5, 3),\n",
    "    nn.Softmax(),\n",
    ")"
   ]
  },
  {
   "cell_type": "code",
   "execution_count": 3,
   "metadata": {},
   "outputs": [
    {
     "name": "stdout",
     "output_type": "stream",
     "text": [
      "actions_0_MountainCar.shape torch.Size([5000, 200, 1])\n"
     ]
    }
   ],
   "source": [
    "actions_0_MountainCar= np.load(\"MountainCar/MountainCar_actions_2.npy\")\n",
    "actions_0_MountainCar = torch.tensor(actions_0_MountainCar, dtype=torch.float)\n",
    "print(\"actions_0_MountainCar.shape\",actions_0_MountainCar.shape)"
   ]
  },
  {
   "cell_type": "code",
   "execution_count": 4,
   "metadata": {},
   "outputs": [
    {
     "data": {
      "text/plain": [
       "torch.Size([503264, 6])"
      ]
     },
     "execution_count": 4,
     "metadata": {},
     "output_type": "execute_result"
    }
   ],
   "source": [
    "def pre_processing (array, n=3):\n",
    "    ep, t, _= array.shape\n",
    "    output = torch.zeros ((ep*(t-n), n+1))\n",
    "    index=0\n",
    "    indices = []\n",
    "    for i in range (ep):\n",
    "        for j in range (t-n):\n",
    "            output[index] = array[i, j:j+n+1].view(-1)\n",
    "            index+=1\n",
    "    for i in range (output.shape[0]):\n",
    "        if (output[i] < torch.zeros(n+1)).any():\n",
    "            indices.append(i)\n",
    "    cleaned_data = torch.tensor(np.delete(np.array(output), indices, axis=0))\n",
    "    return cleaned_data\n",
    "new_data  = pre_processing(actions_0_MountainCar, 5)\n",
    "new_data.shape"
   ]
  },
  {
   "cell_type": "code",
   "execution_count": 5,
   "metadata": {},
   "outputs": [
    {
     "name": "stdout",
     "output_type": "stream",
     "text": [
      "training_set torch.Size([400000, 6])\n",
      "testing_set torch.Size([103264, 6])\n"
     ]
    }
   ],
   "source": [
    "training_set = new_data[:400000]\n",
    "testing_set = new_data[400000:]\n",
    "print(\"training_set\", training_set.shape)\n",
    "print(\"testing_set\", testing_set.shape)"
   ]
  },
  {
   "cell_type": "markdown",
   "metadata": {},
   "source": [
    "# traning"
   ]
  },
  {
   "cell_type": "code",
   "execution_count": 6,
   "metadata": {},
   "outputs": [
    {
     "name": "stderr",
     "output_type": "stream",
     "text": [
      "/home/montaser/anaconda3/lib/python3.6/site-packages/ipykernel_launcher.py:12: UserWarning: To copy construct from a tensor, it is recommended to use sourceTensor.clone().detach() or sourceTensor.clone().detach().requires_grad_(True), rather than torch.tensor(sourceTensor).\n",
      "  if sys.path[0] == '':\n",
      "/home/montaser/anaconda3/lib/python3.6/site-packages/torch/nn/modules/container.py:92: UserWarning: Implicit dimension choice for softmax has been deprecated. Change the call to include dim=X as an argument.\n",
      "  input = module(input)\n"
     ]
    },
    {
     "name": "stdout",
     "output_type": "stream",
     "text": [
      "[EPOCH]: 0, [LOSS]: -1354.146815, [ACCURACY]: 0.878\n",
      "[EPOCH]: 1, [LOSS]: -1420.445346, [ACCURACY]: 0.909\n",
      "[EPOCH]: 2, [LOSS]: -1427.717474, [ACCURACY]: 0.916\n",
      "[EPOCH]: 3, [LOSS]: -1449.374569, [ACCURACY]: 0.933\n",
      "[EPOCH]: 4, [LOSS]: -1455.770364, [ACCURACY]: 0.933\n",
      "[EPOCH]: 5, [LOSS]: -1457.364932, [ACCURACY]: 0.933\n",
      "[EPOCH]: 6, [LOSS]: -1457.942505, [ACCURACY]: 0.933\n",
      "[EPOCH]: 7, [LOSS]: -1458.216857, [ACCURACY]: 0.933\n",
      "[EPOCH]: 8, [LOSS]: -1458.337942, [ACCURACY]: 0.933\n",
      "[EPOCH]: 9, [LOSS]: -1458.396367, [ACCURACY]: 0.933\n",
      "[EPOCH]: 10, [LOSS]: -1458.425016, [ACCURACY]: 0.933\n",
      "[EPOCH]: 11, [LOSS]: -1458.439172, [ACCURACY]: 0.933\n",
      "[EPOCH]: 12, [LOSS]: -1458.446184, [ACCURACY]: 0.933\n",
      "[EPOCH]: 13, [LOSS]: -1458.449684, [ACCURACY]: 0.933\n",
      "[EPOCH]: 14, [LOSS]: -1458.451407, [ACCURACY]: 0.933\n",
      "[EPOCH]: 15, [LOSS]: -1458.452317, [ACCURACY]: 0.933\n",
      "[EPOCH]: 16, [LOSS]: -1458.452585, [ACCURACY]: 0.933\n",
      "[EPOCH]: 17, [LOSS]: -1458.452965, [ACCURACY]: 0.933\n",
      "[EPOCH]: 18, [LOSS]: -1458.453089, [ACCURACY]: 0.933\n",
      "[EPOCH]: 19, [LOSS]: -1458.453119, [ACCURACY]: 0.933\n",
      "[EPOCH]: 20, [LOSS]: -1458.453125, [ACCURACY]: 0.933\n",
      "[EPOCH]: 21, [LOSS]: -1458.453125, [ACCURACY]: 0.933\n",
      "[EPOCH]: 22, [LOSS]: -1458.453125, [ACCURACY]: 0.933\n",
      "[EPOCH]: 23, [LOSS]: -1458.453125, [ACCURACY]: 0.933\n",
      "[EPOCH]: 24, [LOSS]: -1458.453125, [ACCURACY]: 0.933\n",
      "[EPOCH]: 25, [LOSS]: -1458.453125, [ACCURACY]: 0.933\n",
      "[EPOCH]: 26, [LOSS]: -1458.453125, [ACCURACY]: 0.933\n",
      "[EPOCH]: 27, [LOSS]: -1458.453125, [ACCURACY]: 0.933\n",
      "[EPOCH]: 28, [LOSS]: -1458.453125, [ACCURACY]: 0.933\n",
      "[EPOCH]: 29, [LOSS]: -1458.453125, [ACCURACY]: 0.933\n",
      "[EPOCH]: 30, [LOSS]: -1458.453125, [ACCURACY]: 0.933\n",
      "[EPOCH]: 31, [LOSS]: -1458.453125, [ACCURACY]: 0.933\n",
      "[EPOCH]: 32, [LOSS]: -1458.453125, [ACCURACY]: 0.933\n",
      "[EPOCH]: 33, [LOSS]: -1458.453125, [ACCURACY]: 0.933\n",
      "[EPOCH]: 34, [LOSS]: -1458.453125, [ACCURACY]: 0.933\n",
      "[EPOCH]: 35, [LOSS]: -1458.453125, [ACCURACY]: 0.933\n",
      "[EPOCH]: 36, [LOSS]: -1458.453125, [ACCURACY]: 0.933\n",
      "[EPOCH]: 37, [LOSS]: -1458.453125, [ACCURACY]: 0.933\n",
      "[EPOCH]: 38, [LOSS]: -1458.453125, [ACCURACY]: 0.933\n",
      "[EPOCH]: 39, [LOSS]: -1458.453125, [ACCURACY]: 0.933\n",
      "[EPOCH]: 40, [LOSS]: -1458.453125, [ACCURACY]: 0.933\n",
      "[EPOCH]: 41, [LOSS]: -1458.453125, [ACCURACY]: 0.933\n",
      "[EPOCH]: 42, [LOSS]: -1458.453125, [ACCURACY]: 0.933\n",
      "[EPOCH]: 43, [LOSS]: -1458.453125, [ACCURACY]: 0.933\n",
      "[EPOCH]: 44, [LOSS]: -1458.453125, [ACCURACY]: 0.933\n",
      "[EPOCH]: 45, [LOSS]: -1458.453125, [ACCURACY]: 0.933\n",
      "[EPOCH]: 46, [LOSS]: -1458.453125, [ACCURACY]: 0.933\n",
      "[EPOCH]: 47, [LOSS]: -1458.453125, [ACCURACY]: 0.933\n",
      "[EPOCH]: 48, [LOSS]: -1458.453125, [ACCURACY]: 0.933\n",
      "[EPOCH]: 49, [LOSS]: -1458.453125, [ACCURACY]: 0.933\n",
      "[EPOCH]: 50, [LOSS]: -1458.453125, [ACCURACY]: 0.933\n",
      "[EPOCH]: 51, [LOSS]: -1458.453125, [ACCURACY]: 0.933\n",
      "[EPOCH]: 52, [LOSS]: -1458.453125, [ACCURACY]: 0.933\n",
      "[EPOCH]: 53, [LOSS]: -1458.453125, [ACCURACY]: 0.933\n",
      "[EPOCH]: 54, [LOSS]: -1458.453125, [ACCURACY]: 0.933\n",
      "[EPOCH]: 55, [LOSS]: -1458.453125, [ACCURACY]: 0.933\n",
      "[EPOCH]: 56, [LOSS]: -1458.453125, [ACCURACY]: 0.933\n",
      "[EPOCH]: 57, [LOSS]: -1458.453125, [ACCURACY]: 0.933\n",
      "[EPOCH]: 58, [LOSS]: -1458.453125, [ACCURACY]: 0.933\n",
      "[EPOCH]: 59, [LOSS]: -1458.453125, [ACCURACY]: 0.933\n",
      "[EPOCH]: 60, [LOSS]: -1458.453125, [ACCURACY]: 0.933\n",
      "[EPOCH]: 61, [LOSS]: -1458.453125, [ACCURACY]: 0.933\n",
      "[EPOCH]: 62, [LOSS]: -1458.453125, [ACCURACY]: 0.933\n",
      "[EPOCH]: 63, [LOSS]: -1458.453125, [ACCURACY]: 0.933\n",
      "[EPOCH]: 64, [LOSS]: -1458.453125, [ACCURACY]: 0.933\n",
      "[EPOCH]: 65, [LOSS]: -1458.453125, [ACCURACY]: 0.933\n",
      "[EPOCH]: 66, [LOSS]: -1458.453125, [ACCURACY]: 0.933\n",
      "[EPOCH]: 67, [LOSS]: -1458.453125, [ACCURACY]: 0.933\n",
      "[EPOCH]: 68, [LOSS]: -1458.453125, [ACCURACY]: 0.933\n",
      "[EPOCH]: 69, [LOSS]: -1458.453125, [ACCURACY]: 0.933\n",
      "[EPOCH]: 70, [LOSS]: -1458.453125, [ACCURACY]: 0.933\n",
      "[EPOCH]: 71, [LOSS]: -1458.453125, [ACCURACY]: 0.933\n",
      "[EPOCH]: 72, [LOSS]: -1458.453125, [ACCURACY]: 0.933\n",
      "[EPOCH]: 73, [LOSS]: -1458.453125, [ACCURACY]: 0.933\n",
      "[EPOCH]: 74, [LOSS]: -1458.453125, [ACCURACY]: 0.933\n",
      "[EPOCH]: 75, [LOSS]: -1458.453125, [ACCURACY]: 0.933\n",
      "[EPOCH]: 76, [LOSS]: -1458.453125, [ACCURACY]: 0.933\n",
      "[EPOCH]: 77, [LOSS]: -1458.453125, [ACCURACY]: 0.933\n",
      "[EPOCH]: 78, [LOSS]: -1458.453125, [ACCURACY]: 0.933\n",
      "[EPOCH]: 79, [LOSS]: -1458.453125, [ACCURACY]: 0.933\n",
      "[EPOCH]: 80, [LOSS]: -1458.453125, [ACCURACY]: 0.933\n",
      "[EPOCH]: 81, [LOSS]: -1458.453125, [ACCURACY]: 0.933\n",
      "[EPOCH]: 82, [LOSS]: -1458.453125, [ACCURACY]: 0.933\n",
      "[EPOCH]: 83, [LOSS]: -1458.453125, [ACCURACY]: 0.933\n",
      "[EPOCH]: 84, [LOSS]: -1458.453125, [ACCURACY]: 0.933\n",
      "[EPOCH]: 85, [LOSS]: -1458.453125, [ACCURACY]: 0.933\n",
      "[EPOCH]: 86, [LOSS]: -1458.453125, [ACCURACY]: 0.933\n",
      "[EPOCH]: 87, [LOSS]: -1458.453125, [ACCURACY]: 0.933\n",
      "[EPOCH]: 88, [LOSS]: -1458.453125, [ACCURACY]: 0.933\n",
      "[EPOCH]: 89, [LOSS]: -1458.453125, [ACCURACY]: 0.933\n",
      "[EPOCH]: 90, [LOSS]: -1458.453125, [ACCURACY]: 0.933\n",
      "[EPOCH]: 91, [LOSS]: -1458.453125, [ACCURACY]: 0.933\n",
      "[EPOCH]: 92, [LOSS]: -1458.453125, [ACCURACY]: 0.933\n",
      "[EPOCH]: 93, [LOSS]: -1458.453125, [ACCURACY]: 0.933\n",
      "[EPOCH]: 94, [LOSS]: -1458.453125, [ACCURACY]: 0.933\n",
      "[EPOCH]: 95, [LOSS]: -1458.453125, [ACCURACY]: 0.933\n",
      "[EPOCH]: 96, [LOSS]: -1458.453125, [ACCURACY]: 0.933\n",
      "[EPOCH]: 97, [LOSS]: -1458.453125, [ACCURACY]: 0.933\n",
      "[EPOCH]: 98, [LOSS]: -1458.453125, [ACCURACY]: 0.933\n",
      "[EPOCH]: 99, [LOSS]: -1458.453125, [ACCURACY]: 0.933\n"
     ]
    }
   ],
   "source": [
    "losses = []\n",
    "n_itrations=100\n",
    "batch_size=256\n",
    "loss_function = nn.NLLLoss()\n",
    "optimizer = optim.Adam(model.parameters(), lr=0.001)\n",
    "for itr in range (n_itrations):\n",
    "    if itr%50 ==0:\n",
    "        torch.save(model, \"MountainCar_model_n=5\")  \n",
    "    total_loss = 0\n",
    "    total_acc = []\n",
    "    for b in range (0, training_set.shape[0], batch_size):\n",
    "        y = torch.tensor(training_set[b:b+batch_size, -1], dtype=torch.long)\n",
    "        y_pred = model(training_set[b:b+batch_size, :5])\n",
    "        score, predicted = torch.max(y_pred, 1)\n",
    "        acc = (y == predicted).sum().float() / len(y)\n",
    "        total_acc.append(acc)\n",
    "#         print(\"y_pred\", y_pred)\n",
    "        loss = loss_function(y_pred, y)\n",
    "        total_loss += loss.item()\n",
    "        optimizer.zero_grad()\n",
    "        loss.backward()\n",
    "        optimizer.step()\n",
    "    losses.append(total_loss)\n",
    "    print(\"[EPOCH]: %i, [LOSS]: %.6f, [ACCURACY]: %.3f\" % (itr, total_loss, np.mean(np.array(total_acc)) ))\n",
    "#     print(\"[EPOCH]: %i, [LOSS]: %.6f ,[acc]: %.3f\" % (itr, total_loss, np.mean(np.array(total_acc))))"
   ]
  },
  {
   "cell_type": "code",
   "execution_count": 7,
   "metadata": {},
   "outputs": [
    {
     "data": {
      "image/png": "[encoded data removed]",
      "text/plain": [
       "<Figure size 432x288 with 1 Axes>"
      ]
     },
     "metadata": {
      "needs_background": "light"
     },
     "output_type": "display_data"
    }
   ],
   "source": [
    "torch.save(model, \"MountainCar_model_n=5\") \n",
    "plt.plot(losses)\n",
    "plt.xlabel(\"number of epochs\")\n",
    "plt.ylabel(\"loss\")\n",
    "plt.show()"
   ]
  },
  {
   "cell_type": "markdown",
   "metadata": {},
   "source": [
    "# test"
   ]
  },
  {
   "cell_type": "code",
   "execution_count": 8,
   "metadata": {},
   "outputs": [
    {
     "name": "stdout",
     "output_type": "stream",
     "text": [
      "accuracy = 0.9375 \n"
     ]
    },
    {
     "name": "stderr",
     "output_type": "stream",
     "text": [
      "/home/montaser/anaconda3/lib/python3.6/site-packages/ipykernel_launcher.py:1: UserWarning: To copy construct from a tensor, it is recommended to use sourceTensor.clone().detach() or sourceTensor.clone().detach().requires_grad_(True), rather than torch.tensor(sourceTensor).\n",
      "  \"\"\"Entry point for launching an IPython kernel.\n"
     ]
    }
   ],
   "source": [
    "y = torch.tensor(testing_set[:, -1], dtype=torch.long)\n",
    "y_pred = model(testing_set[:, :5])\n",
    "score, predicted = torch.max(y_pred, 1)\n",
    "acc = (y == predicted).sum().float() / len(y)\n",
    "print(\"accuracy = %.4f \"%acc.item())"
   ]
  },
  {
   "cell_type": "markdown",
   "metadata": {},
   "source": [
    "# PCA"
   ]
  },
  {
   "cell_type": "code",
   "execution_count": 9,
   "metadata": {},
   "outputs": [
    {
     "data": {
      "text/plain": [
       "Sequential(\n",
       "  (0): Linear(in_features=5, out_features=5, bias=True)\n",
       "  (1): ReLU()\n",
       "  (2): Linear(in_features=5, out_features=10, bias=True)\n",
       "  (3): ReLU()\n",
       "  (4): Linear(in_features=10, out_features=15, bias=True)\n",
       "  (5): ReLU()\n",
       "  (6): Linear(in_features=15, out_features=20, bias=True)\n",
       "  (7): ReLU()\n",
       ")"
      ]
     },
     "execution_count": 9,
     "metadata": {},
     "output_type": "execute_result"
    }
   ],
   "source": [
    "m = torch.load(\"MountainCar_model_n=5\")\n",
    "m[:8]"
   ]
  },
  {
   "cell_type": "code",
   "execution_count": 10,
   "metadata": {},
   "outputs": [],
   "source": [
    "def prepare_inputs (n): \n",
    "    a=[0, 1,2]\n",
    "    return torch.tensor([list(i) for i in itertools.product(a, repeat=n)], dtype=torch.float)"
   ]
  },
  {
   "cell_type": "code",
   "execution_count": 11,
   "metadata": {},
   "outputs": [
    {
     "data": {
      "text/plain": [
       "torch.Size([243, 5])"
      ]
     },
     "execution_count": 11,
     "metadata": {},
     "output_type": "execute_result"
    }
   ],
   "source": [
    "zom = prepare_inputs(5)\n",
    "zom.shape"
   ]
  },
  {
   "cell_type": "code",
   "execution_count": 13,
   "metadata": {},
   "outputs": [
    {
     "data": {
      "text/plain": [
       "tensor([1., 1., 1., 1., 1.])"
      ]
     },
     "execution_count": 13,
     "metadata": {},
     "output_type": "execute_result"
    }
   ],
   "source": [
    "zom[121]"
   ]
  },
  {
   "cell_type": "code",
   "execution_count": 14,
   "metadata": {},
   "outputs": [
    {
     "data": {
      "text/plain": [
       "(243, 20)"
      ]
     },
     "execution_count": 14,
     "metadata": {},
     "output_type": "execute_result"
    }
   ],
   "source": [
    "vectors = m[:8](zom).detach().numpy()\n",
    "vectors.shape"
   ]
  },
  {
   "cell_type": "code",
   "execution_count": 15,
   "metadata": {},
   "outputs": [
    {
     "data": {
      "text/plain": [
       "(243, 2)"
      ]
     },
     "execution_count": 15,
     "metadata": {},
     "output_type": "execute_result"
    }
   ],
   "source": [
    "pca = PCA(n_components=2, svd_solver='full' ).fit_transform(vectors)\n",
    "pca.shape"
   ]
  },
  {
   "cell_type": "code",
   "execution_count": 16,
   "metadata": {},
   "outputs": [
    {
     "data": {
      "image/png": "[encoded data removed]",
      "text/plain": [
       "<Figure size 432x288 with 1 Axes>"
      ]
     },
     "metadata": {
      "needs_background": "light"
     },
     "output_type": "display_data"
    }
   ],
   "source": [
    "# for i in range (pca.shape[0]):\n",
    "#     plt.plot(list(pca[i])[0], list(pca[i])[1] ,\"o\", label=\"{}\".format(list(np.array(zom[i], dtype=np.int))))\n",
    "plt.plot(list(pca[0])[0], list(pca[0])[1] ,\"o\", label=\"0,0,0\")\n",
    "# plt.plot(list(pca[2])[0], list(pca[1])[1] ,\"o\", label=\"0,0,2\")\n",
    "# plt.plot(list(pca[6])[0], list(pca[3])[1] ,\"o\", label=\"0,2,0\")\n",
    "# plt.plot(list(pca[19])[0], list(pca[3])[1] ,\"o\", label=\"2,0,0\")\n",
    "plt.plot(list(pca[121])[0], list(pca[121])[1] ,\"o\", label=\"1,1,1\")\n",
    "plt.plot(list(pca[-1])[0], list(pca[-1])[1] ,\"o\", label=\"2,2,2\")\n",
    "plt.title(\"MountainCar Actions Embedding n=5\")\n",
    "plt.legend()\n",
    "plt.savefig(\"fig/MountainCar_n=5\", dpi=600)"
   ]
  },
  {
   "cell_type": "code",
   "execution_count": 19,
   "metadata": {},
   "outputs": [
    {
     "data": {
      "text/plain": [
       "<matplotlib.legend.Legend at 0x7fdb2415d828>"
      ]
     },
     "execution_count": 19,
     "metadata": {},
     "output_type": "execute_result"
    },
    {
     "data": {
      "image/png": "[encoded data removed]",
      "text/plain": [
       "<Figure size 432x288 with 1 Axes>"
      ]
     },
     "metadata": {
      "needs_background": "light"
     },
     "output_type": "display_data"
    }
   ],
   "source": [
    "plt.plot(list(pca[0])[0], list(pca[0])[1] ,\"o\", label=\"0,0,0\")\n",
    "plt.plot(list(pca[2])[0], list(pca[1])[1] ,\"o\", label=\"0,0,2\")\n",
    "plt.plot(list(pca[6])[0], list(pca[3])[1] ,\"o\", label=\"0,2,0\")\n",
    "plt.plot(list(pca[19])[0], list(pca[3])[1] ,\"o\", label=\"2,0,0\")\n",
    "plt.plot(list(pca[-1])[0], list(pca[-1])[1] ,\"o\", label=\"2,2,2\")\n",
    "\n",
    "plt.title(\"MountainCar Actions Embedding n=2\")\n",
    "plt.legend()"
   ]
  },
  {
   "cell_type": "code",
   "execution_count": null,
   "metadata": {},
   "outputs": [],
   "source": []
  }
 ],
 "metadata": {
  "kernelspec": {
   "display_name": "Python 3",
   "language": "python",
   "name": "python3"
  },
  "language_info": {
   "codemirror_mode": {
    "name": "ipython",
    "version": 3
   },
   "file_extension": ".py",
   "mimetype": "text/x-python",
   "name": "python",
   "nbconvert_exporter": "python",
   "pygments_lexer": "ipython3",
   "version": "3.6.8"
  }
 },
 "nbformat": 4,
 "nbformat_minor": 2
}
