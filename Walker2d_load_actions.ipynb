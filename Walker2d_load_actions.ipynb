{
 "cells": [
  {
   "cell_type": "code",
   "execution_count": 17,
   "metadata": {},
   "outputs": [],
   "source": [
    "import torch\n",
    "import torch.nn as nn\n",
    "import torch.nn.functional as F\n",
    "import torch.optim as optim\n",
    "import numpy as np\n",
    "import matplotlib.pylab as plt\n",
    "import itertools\n",
    "from sklearn.decomposition import PCA\n",
    "from sklearn.neighbors import KNeighborsClassifier\n",
    "from sklearn.cluster import KMeans"
   ]
  },
  {
   "cell_type": "code",
   "execution_count": 2,
   "metadata": {},
   "outputs": [],
   "source": [
    "model = nn.Sequential(\n",
    "    \n",
    "    nn.Linear(16, 20),\n",
    "    nn.ReLU(),\n",
    "    \n",
    "    nn.Linear(20, 25),\n",
    "    nn.ReLU(),\n",
    "    \n",
    "    nn.Linear(25, 30),\n",
    "    nn.ReLU(),\n",
    "    \n",
    "    nn.Linear(30, 35),\n",
    "    nn.ReLU(),\n",
    "    \n",
    "    nn.Linear(35, 30),\n",
    "    nn.ReLU(),\n",
    "    \n",
    "    nn.Linear(30, 25),\n",
    "    nn.ReLU(),\n",
    "    \n",
    "    nn.Linear(25, 20),\n",
    "    nn.ReLU(),\n",
    "    \n",
    "    nn.Linear(20, 15),\n",
    "    nn.ReLU(),\n",
    "    \n",
    "    nn.Linear(15, 10),\n",
    "    nn.ReLU(),\n",
    "    \n",
    "    nn.Linear(10, 4),\n",
    ")"
   ]
  },
  {
   "cell_type": "code",
   "execution_count": 3,
   "metadata": {},
   "outputs": [],
   "source": [
    "actions_walker2d= np.load(\"actions_TRPO_walker2d_6.npy\")[:4000]"
   ]
  },
  {
   "cell_type": "code",
   "execution_count": 4,
   "metadata": {},
   "outputs": [
    {
     "name": "stdout",
     "output_type": "stream",
     "text": [
      "actions_walker2d.shape torch.Size([4000, 500, 4])\n"
     ]
    }
   ],
   "source": [
    "actions_walker2d = torch.tensor(actions_walker2d, dtype=torch.float)\n",
    "print(\"actions_walker2d.shape\",actions_walker2d.shape)"
   ]
  },
  {
   "cell_type": "code",
   "execution_count": 5,
   "metadata": {},
   "outputs": [
    {
     "name": "stdout",
     "output_type": "stream",
     "text": [
      "new_data.shape torch.Size([1953681, 20])\n"
     ]
    }
   ],
   "source": [
    "def pre_processing (array, n=3):\n",
    "    ep, t, _= array.shape\n",
    "    output = torch.zeros ((ep*(t-n), 4*(n+1)))\n",
    "    index=0\n",
    "    indices = []\n",
    "    for i in range (ep):\n",
    "        for j in range (t-n):\n",
    "            output[index] = array[i, j:j+n+1].view(-1)\n",
    "            index+=1\n",
    "    for i in range (output.shape[0]):\n",
    "        if (output[i] == -1*torch.ones(4*(n+1))).any():\n",
    "            indices.append(i)\n",
    "    cleaned_data = torch.tensor(np.delete(np.array(output), indices, axis=0))\n",
    "    return cleaned_data\n",
    "new_data  = pre_processing(actions_walker2d, 4)\n",
    "print(\"new_data.shape\",new_data.shape)"
   ]
  },
  {
   "cell_type": "code",
   "execution_count": 6,
   "metadata": {},
   "outputs": [
    {
     "name": "stdout",
     "output_type": "stream",
     "text": [
      "training_set torch.Size([1000000, 20])\n",
      "testing_set torch.Size([953681, 20])\n"
     ]
    }
   ],
   "source": [
    "training_set = new_data[:1000000]\n",
    "testing_set = new_data[1000000:]\n",
    "print(\"training_set\", training_set.shape)\n",
    "print(\"testing_set\", testing_set.shape)"
   ]
  },
  {
   "cell_type": "markdown",
   "metadata": {},
   "source": [
    "# traning"
   ]
  },
  {
   "cell_type": "code",
   "execution_count": 7,
   "metadata": {},
   "outputs": [
    {
     "name": "stderr",
     "output_type": "stream",
     "text": [
      "/home/montaser/anaconda3/lib/python3.6/site-packages/ipykernel_launcher.py:13: UserWarning: To copy construct from a tensor, it is recommended to use sourceTensor.clone().detach() or sourceTensor.clone().detach().requires_grad_(True), rather than torch.tensor(sourceTensor).\n",
      "  del sys.path[0]\n"
     ]
    },
    {
     "name": "stdout",
     "output_type": "stream",
     "text": [
      "[EPOCH]: 0, [LOSS]: 1022.990475\n",
      "[EPOCH]: 1, [LOSS]: 575.388665\n",
      "[EPOCH]: 2, [LOSS]: 492.690763\n",
      "[EPOCH]: 3, [LOSS]: 461.555200\n",
      "[EPOCH]: 4, [LOSS]: 444.362676\n",
      "[EPOCH]: 5, [LOSS]: 430.427822\n",
      "[EPOCH]: 6, [LOSS]: 420.441273\n",
      "[EPOCH]: 7, [LOSS]: 412.654688\n",
      "[EPOCH]: 8, [LOSS]: 405.971576\n",
      "[EPOCH]: 9, [LOSS]: 400.331632\n",
      "[EPOCH]: 10, [LOSS]: 395.686804\n",
      "[EPOCH]: 11, [LOSS]: 391.502103\n",
      "[EPOCH]: 12, [LOSS]: 387.809969\n",
      "[EPOCH]: 13, [LOSS]: 384.548245\n",
      "[EPOCH]: 14, [LOSS]: 381.636212\n",
      "[EPOCH]: 15, [LOSS]: 378.667993\n",
      "[EPOCH]: 16, [LOSS]: 375.948403\n",
      "[EPOCH]: 17, [LOSS]: 373.531834\n",
      "[EPOCH]: 18, [LOSS]: 371.258814\n",
      "[EPOCH]: 19, [LOSS]: 369.242371\n",
      "[EPOCH]: 20, [LOSS]: 367.459312\n",
      "[EPOCH]: 21, [LOSS]: 365.774948\n",
      "[EPOCH]: 22, [LOSS]: 364.157812\n",
      "[EPOCH]: 23, [LOSS]: 362.580028\n",
      "[EPOCH]: 24, [LOSS]: 361.097160\n",
      "[EPOCH]: 25, [LOSS]: 359.771899\n",
      "[EPOCH]: 26, [LOSS]: 358.508335\n",
      "[EPOCH]: 27, [LOSS]: 357.366290\n",
      "[EPOCH]: 28, [LOSS]: 356.309151\n",
      "[EPOCH]: 29, [LOSS]: 355.257080\n",
      "[EPOCH]: 30, [LOSS]: 354.235088\n",
      "[EPOCH]: 31, [LOSS]: 353.257483\n",
      "[EPOCH]: 32, [LOSS]: 352.275134\n",
      "[EPOCH]: 33, [LOSS]: 351.326303\n",
      "[EPOCH]: 34, [LOSS]: 350.449131\n",
      "[EPOCH]: 35, [LOSS]: 349.635783\n",
      "[EPOCH]: 36, [LOSS]: 348.825361\n",
      "[EPOCH]: 37, [LOSS]: 348.072292\n",
      "[EPOCH]: 38, [LOSS]: 347.349635\n",
      "[EPOCH]: 39, [LOSS]: 346.749280\n",
      "[EPOCH]: 40, [LOSS]: 346.093490\n",
      "[EPOCH]: 41, [LOSS]: 345.453734\n",
      "[EPOCH]: 42, [LOSS]: 344.818063\n",
      "[EPOCH]: 43, [LOSS]: 344.199456\n",
      "[EPOCH]: 44, [LOSS]: 343.600884\n",
      "[EPOCH]: 45, [LOSS]: 343.000889\n",
      "[EPOCH]: 46, [LOSS]: 342.425675\n",
      "[EPOCH]: 47, [LOSS]: 341.855798\n",
      "[EPOCH]: 48, [LOSS]: 341.269638\n",
      "[EPOCH]: 49, [LOSS]: 340.745700\n",
      "[EPOCH]: 50, [LOSS]: 340.234447\n",
      "[EPOCH]: 51, [LOSS]: 339.734334\n",
      "[EPOCH]: 52, [LOSS]: 339.233390\n",
      "[EPOCH]: 53, [LOSS]: 338.827760\n",
      "[EPOCH]: 54, [LOSS]: 338.387042\n",
      "[EPOCH]: 55, [LOSS]: 337.984476\n",
      "[EPOCH]: 56, [LOSS]: 337.553469\n",
      "[EPOCH]: 57, [LOSS]: 337.158816\n",
      "[EPOCH]: 58, [LOSS]: 336.701092\n",
      "[EPOCH]: 59, [LOSS]: 336.315803\n",
      "[EPOCH]: 60, [LOSS]: 335.949967\n",
      "[EPOCH]: 61, [LOSS]: 335.594936\n",
      "[EPOCH]: 62, [LOSS]: 335.227964\n",
      "[EPOCH]: 63, [LOSS]: 334.913891\n",
      "[EPOCH]: 64, [LOSS]: 334.533731\n",
      "[EPOCH]: 65, [LOSS]: 334.194566\n",
      "[EPOCH]: 66, [LOSS]: 333.929952\n",
      "[EPOCH]: 67, [LOSS]: 333.604998\n",
      "[EPOCH]: 68, [LOSS]: 333.392365\n",
      "[EPOCH]: 69, [LOSS]: 333.100862\n",
      "[EPOCH]: 70, [LOSS]: 332.815577\n",
      "[EPOCH]: 71, [LOSS]: 332.545040\n",
      "[EPOCH]: 72, [LOSS]: 332.376207\n",
      "[EPOCH]: 73, [LOSS]: 332.074584\n",
      "[EPOCH]: 74, [LOSS]: 331.831381\n",
      "[EPOCH]: 75, [LOSS]: 331.602556\n",
      "[EPOCH]: 76, [LOSS]: 331.374579\n",
      "[EPOCH]: 77, [LOSS]: 331.137754\n",
      "[EPOCH]: 78, [LOSS]: 330.921173\n",
      "[EPOCH]: 79, [LOSS]: 330.732468\n",
      "[EPOCH]: 80, [LOSS]: 330.495617\n",
      "[EPOCH]: 81, [LOSS]: 330.240068\n",
      "[EPOCH]: 82, [LOSS]: 329.980286\n",
      "[EPOCH]: 83, [LOSS]: 329.701851\n",
      "[EPOCH]: 84, [LOSS]: 329.451448\n",
      "[EPOCH]: 85, [LOSS]: 329.253800\n",
      "[EPOCH]: 86, [LOSS]: 329.082994\n",
      "[EPOCH]: 87, [LOSS]: 328.908976\n",
      "[EPOCH]: 88, [LOSS]: 328.687950\n",
      "[EPOCH]: 89, [LOSS]: 328.487336\n",
      "[EPOCH]: 90, [LOSS]: 328.310449\n",
      "[EPOCH]: 91, [LOSS]: 328.140268\n",
      "[EPOCH]: 92, [LOSS]: 327.976801\n",
      "[EPOCH]: 93, [LOSS]: 327.769607\n",
      "[EPOCH]: 94, [LOSS]: 327.615534\n",
      "[EPOCH]: 95, [LOSS]: 327.430493\n",
      "[EPOCH]: 96, [LOSS]: 327.241656\n",
      "[EPOCH]: 97, [LOSS]: 327.087941\n",
      "[EPOCH]: 98, [LOSS]: 326.896709\n",
      "[EPOCH]: 99, [LOSS]: 326.729867\n",
      "[EPOCH]: 100, [LOSS]: 326.550207\n",
      "[EPOCH]: 101, [LOSS]: 326.419969\n",
      "[EPOCH]: 102, [LOSS]: 326.218365\n",
      "[EPOCH]: 103, [LOSS]: 326.101917\n",
      "[EPOCH]: 104, [LOSS]: 325.970153\n",
      "[EPOCH]: 105, [LOSS]: 325.792816\n",
      "[EPOCH]: 106, [LOSS]: 325.607967\n",
      "[EPOCH]: 107, [LOSS]: 325.438140\n",
      "[EPOCH]: 108, [LOSS]: 325.261397\n",
      "[EPOCH]: 109, [LOSS]: 325.091089\n",
      "[EPOCH]: 110, [LOSS]: 324.909277\n",
      "[EPOCH]: 111, [LOSS]: 324.744740\n",
      "[EPOCH]: 112, [LOSS]: 324.595516\n",
      "[EPOCH]: 113, [LOSS]: 324.428020\n",
      "[EPOCH]: 114, [LOSS]: 324.282305\n",
      "[EPOCH]: 115, [LOSS]: 324.114959\n",
      "[EPOCH]: 116, [LOSS]: 323.916104\n",
      "[EPOCH]: 117, [LOSS]: 323.779308\n",
      "[EPOCH]: 118, [LOSS]: 323.651665\n",
      "[EPOCH]: 119, [LOSS]: 323.505156\n",
      "[EPOCH]: 120, [LOSS]: 323.355098\n",
      "[EPOCH]: 121, [LOSS]: 323.186049\n",
      "[EPOCH]: 122, [LOSS]: 322.991807\n",
      "[EPOCH]: 123, [LOSS]: 322.873779\n",
      "[EPOCH]: 124, [LOSS]: 322.695717\n",
      "[EPOCH]: 125, [LOSS]: 322.541939\n",
      "[EPOCH]: 126, [LOSS]: 322.408798\n",
      "[EPOCH]: 127, [LOSS]: 322.242915\n",
      "[EPOCH]: 128, [LOSS]: 322.058326\n",
      "[EPOCH]: 129, [LOSS]: 321.947565\n",
      "[EPOCH]: 130, [LOSS]: 321.833013\n",
      "[EPOCH]: 131, [LOSS]: 321.701146\n",
      "[EPOCH]: 132, [LOSS]: 321.602914\n",
      "[EPOCH]: 133, [LOSS]: 321.464095\n",
      "[EPOCH]: 134, [LOSS]: 321.368199\n",
      "[EPOCH]: 135, [LOSS]: 321.252612\n",
      "[EPOCH]: 136, [LOSS]: 321.147323\n",
      "[EPOCH]: 137, [LOSS]: 321.034235\n",
      "[EPOCH]: 138, [LOSS]: 320.925148\n",
      "[EPOCH]: 139, [LOSS]: 320.831324\n",
      "[EPOCH]: 140, [LOSS]: 320.704711\n",
      "[EPOCH]: 141, [LOSS]: 320.590679\n",
      "[EPOCH]: 142, [LOSS]: 320.494434\n",
      "[EPOCH]: 143, [LOSS]: 320.395532\n",
      "[EPOCH]: 144, [LOSS]: 320.272231\n",
      "[EPOCH]: 145, [LOSS]: 320.199169\n",
      "[EPOCH]: 146, [LOSS]: 320.070833\n",
      "[EPOCH]: 147, [LOSS]: 319.933619\n",
      "[EPOCH]: 148, [LOSS]: 319.839715\n",
      "[EPOCH]: 149, [LOSS]: 319.717189\n",
      "[EPOCH]: 150, [LOSS]: 319.669227\n",
      "[EPOCH]: 151, [LOSS]: 319.555598\n",
      "[EPOCH]: 152, [LOSS]: 319.485239\n",
      "[EPOCH]: 153, [LOSS]: 319.384920\n",
      "[EPOCH]: 154, [LOSS]: 319.282522\n",
      "[EPOCH]: 155, [LOSS]: 319.244576\n",
      "[EPOCH]: 156, [LOSS]: 319.156875\n",
      "[EPOCH]: 157, [LOSS]: 319.047899\n",
      "[EPOCH]: 158, [LOSS]: 318.986322\n",
      "[EPOCH]: 159, [LOSS]: 318.880614\n",
      "[EPOCH]: 160, [LOSS]: 318.795958\n",
      "[EPOCH]: 161, [LOSS]: 318.748262\n",
      "[EPOCH]: 162, [LOSS]: 318.684697\n",
      "[EPOCH]: 163, [LOSS]: 318.599057\n",
      "[EPOCH]: 164, [LOSS]: 318.521692\n",
      "[EPOCH]: 165, [LOSS]: 318.450431\n",
      "[EPOCH]: 166, [LOSS]: 318.378170\n",
      "[EPOCH]: 167, [LOSS]: 318.316137\n",
      "[EPOCH]: 168, [LOSS]: 318.265711\n",
      "[EPOCH]: 169, [LOSS]: 318.185093\n",
      "[EPOCH]: 170, [LOSS]: 318.153640\n",
      "[EPOCH]: 171, [LOSS]: 318.067123\n",
      "[EPOCH]: 172, [LOSS]: 317.969848\n",
      "[EPOCH]: 173, [LOSS]: 317.928756\n",
      "[EPOCH]: 174, [LOSS]: 317.871593\n",
      "[EPOCH]: 175, [LOSS]: 317.790556\n",
      "[EPOCH]: 176, [LOSS]: 317.689404\n",
      "[EPOCH]: 177, [LOSS]: 317.584282\n",
      "[EPOCH]: 178, [LOSS]: 317.472400\n",
      "[EPOCH]: 179, [LOSS]: 317.388613\n",
      "[EPOCH]: 180, [LOSS]: 317.325774\n",
      "[EPOCH]: 181, [LOSS]: 317.258458\n",
      "[EPOCH]: 182, [LOSS]: 317.155840\n",
      "[EPOCH]: 183, [LOSS]: 317.060237\n",
      "[EPOCH]: 184, [LOSS]: 316.998651\n",
      "[EPOCH]: 185, [LOSS]: 316.919623\n",
      "[EPOCH]: 186, [LOSS]: 316.862484\n",
      "[EPOCH]: 187, [LOSS]: 316.780154\n",
      "[EPOCH]: 188, [LOSS]: 316.717383\n",
      "[EPOCH]: 189, [LOSS]: 316.661128\n",
      "[EPOCH]: 190, [LOSS]: 316.590823\n",
      "[EPOCH]: 191, [LOSS]: 316.573911\n",
      "[EPOCH]: 192, [LOSS]: 316.489972\n",
      "[EPOCH]: 193, [LOSS]: 316.447751\n",
      "[EPOCH]: 194, [LOSS]: 316.387142\n",
      "[EPOCH]: 195, [LOSS]: 316.349028\n",
      "[EPOCH]: 196, [LOSS]: 316.245207\n",
      "[EPOCH]: 197, [LOSS]: 316.188292\n",
      "[EPOCH]: 198, [LOSS]: 316.140613\n",
      "[EPOCH]: 199, [LOSS]: 316.070174\n",
      "[EPOCH]: 200, [LOSS]: 316.016544\n",
      "[EPOCH]: 201, [LOSS]: 315.931151\n",
      "[EPOCH]: 202, [LOSS]: 315.855686\n",
      "[EPOCH]: 203, [LOSS]: 315.837772\n",
      "[EPOCH]: 204, [LOSS]: 315.760441\n",
      "[EPOCH]: 205, [LOSS]: 315.723893\n",
      "[EPOCH]: 206, [LOSS]: 315.634371\n",
      "[EPOCH]: 207, [LOSS]: 315.612528\n",
      "[EPOCH]: 208, [LOSS]: 315.571518\n",
      "[EPOCH]: 209, [LOSS]: 315.515656\n",
      "[EPOCH]: 210, [LOSS]: 315.441660\n",
      "[EPOCH]: 211, [LOSS]: 315.401553\n",
      "[EPOCH]: 212, [LOSS]: 315.341702\n",
      "[EPOCH]: 213, [LOSS]: 315.267764\n",
      "[EPOCH]: 214, [LOSS]: 315.201879\n",
      "[EPOCH]: 215, [LOSS]: 315.155910\n",
      "[EPOCH]: 216, [LOSS]: 315.091896\n",
      "[EPOCH]: 217, [LOSS]: 315.037255\n",
      "[EPOCH]: 218, [LOSS]: 315.006091\n",
      "[EPOCH]: 219, [LOSS]: 314.957701\n",
      "[EPOCH]: 220, [LOSS]: 314.865179\n",
      "[EPOCH]: 221, [LOSS]: 314.842249\n",
      "[EPOCH]: 222, [LOSS]: 314.778562\n",
      "[EPOCH]: 223, [LOSS]: 314.735219\n",
      "[EPOCH]: 224, [LOSS]: 314.716369\n",
      "[EPOCH]: 225, [LOSS]: 314.617594\n",
      "[EPOCH]: 226, [LOSS]: 314.540213\n",
      "[EPOCH]: 227, [LOSS]: 314.510331\n",
      "[EPOCH]: 228, [LOSS]: 314.441048\n",
      "[EPOCH]: 229, [LOSS]: 314.375971\n",
      "[EPOCH]: 230, [LOSS]: 314.353630\n",
      "[EPOCH]: 231, [LOSS]: 314.291719\n",
      "[EPOCH]: 232, [LOSS]: 314.266402\n",
      "[EPOCH]: 233, [LOSS]: 314.174650\n",
      "[EPOCH]: 234, [LOSS]: 314.131118\n",
      "[EPOCH]: 235, [LOSS]: 314.064432\n",
      "[EPOCH]: 236, [LOSS]: 314.058906\n",
      "[EPOCH]: 237, [LOSS]: 313.982619\n",
      "[EPOCH]: 238, [LOSS]: 313.958519\n",
      "[EPOCH]: 239, [LOSS]: 313.885018\n",
      "[EPOCH]: 240, [LOSS]: 313.833133\n",
      "[EPOCH]: 241, [LOSS]: 313.799157\n",
      "[EPOCH]: 242, [LOSS]: 313.754833\n",
      "[EPOCH]: 243, [LOSS]: 313.716922\n",
      "[EPOCH]: 244, [LOSS]: 313.642468\n",
      "[EPOCH]: 245, [LOSS]: 313.617487\n",
      "[EPOCH]: 246, [LOSS]: 313.533725\n",
      "[EPOCH]: 247, [LOSS]: 313.498614\n",
      "[EPOCH]: 248, [LOSS]: 313.500063\n",
      "[EPOCH]: 249, [LOSS]: 313.431176\n",
      "[EPOCH]: 250, [LOSS]: 313.371368\n",
      "[EPOCH]: 251, [LOSS]: 313.348595\n",
      "[EPOCH]: 252, [LOSS]: 313.323138\n",
      "[EPOCH]: 253, [LOSS]: 313.247047\n",
      "[EPOCH]: 254, [LOSS]: 313.231557\n",
      "[EPOCH]: 255, [LOSS]: 313.175680\n",
      "[EPOCH]: 256, [LOSS]: 313.105844\n",
      "[EPOCH]: 257, [LOSS]: 313.060279\n",
      "[EPOCH]: 258, [LOSS]: 313.023949\n",
      "[EPOCH]: 259, [LOSS]: 312.958695\n",
      "[EPOCH]: 260, [LOSS]: 312.949875\n",
      "[EPOCH]: 261, [LOSS]: 312.914512\n",
      "[EPOCH]: 262, [LOSS]: 312.869328\n",
      "[EPOCH]: 263, [LOSS]: 312.810169\n",
      "[EPOCH]: 264, [LOSS]: 312.785481\n",
      "[EPOCH]: 265, [LOSS]: 312.723410\n",
      "[EPOCH]: 266, [LOSS]: 312.699563\n",
      "[EPOCH]: 267, [LOSS]: 312.616747\n",
      "[EPOCH]: 268, [LOSS]: 312.614886\n",
      "[EPOCH]: 269, [LOSS]: 312.541814\n",
      "[EPOCH]: 270, [LOSS]: 312.520524\n",
      "[EPOCH]: 271, [LOSS]: 312.461386\n",
      "[EPOCH]: 272, [LOSS]: 312.414122\n",
      "[EPOCH]: 273, [LOSS]: 312.376776\n",
      "[EPOCH]: 274, [LOSS]: 312.320407\n",
      "[EPOCH]: 275, [LOSS]: 312.297303\n",
      "[EPOCH]: 276, [LOSS]: 312.242314\n",
      "[EPOCH]: 277, [LOSS]: 312.222606\n",
      "[EPOCH]: 278, [LOSS]: 312.181894\n",
      "[EPOCH]: 279, [LOSS]: 312.169310\n",
      "[EPOCH]: 280, [LOSS]: 312.133529\n",
      "[EPOCH]: 281, [LOSS]: 312.049253\n",
      "[EPOCH]: 282, [LOSS]: 311.999743\n",
      "[EPOCH]: 283, [LOSS]: 311.992586\n",
      "[EPOCH]: 284, [LOSS]: 311.952386\n",
      "[EPOCH]: 285, [LOSS]: 311.940228\n",
      "[EPOCH]: 286, [LOSS]: 311.897892\n",
      "[EPOCH]: 287, [LOSS]: 311.851204\n",
      "[EPOCH]: 288, [LOSS]: 311.802208\n",
      "[EPOCH]: 289, [LOSS]: 311.752121\n",
      "[EPOCH]: 290, [LOSS]: 311.714987\n",
      "[EPOCH]: 291, [LOSS]: 311.678082\n",
      "[EPOCH]: 292, [LOSS]: 311.594260\n",
      "[EPOCH]: 293, [LOSS]: 311.582625\n",
      "[EPOCH]: 294, [LOSS]: 311.535246\n",
      "[EPOCH]: 295, [LOSS]: 311.477143\n",
      "[EPOCH]: 296, [LOSS]: 311.451534\n",
      "[EPOCH]: 297, [LOSS]: 311.380968\n",
      "[EPOCH]: 298, [LOSS]: 311.345754\n",
      "[EPOCH]: 299, [LOSS]: 311.298544\n",
      "[EPOCH]: 300, [LOSS]: 311.264280\n",
      "[EPOCH]: 301, [LOSS]: 311.206391\n",
      "[EPOCH]: 302, [LOSS]: 311.165053\n",
      "[EPOCH]: 303, [LOSS]: 311.150306\n",
      "[EPOCH]: 304, [LOSS]: 311.091924\n",
      "[EPOCH]: 305, [LOSS]: 311.050458\n",
      "[EPOCH]: 306, [LOSS]: 311.010691\n",
      "[EPOCH]: 307, [LOSS]: 310.980362\n",
      "[EPOCH]: 308, [LOSS]: 310.959954\n",
      "[EPOCH]: 309, [LOSS]: 310.899968\n",
      "[EPOCH]: 310, [LOSS]: 310.883071\n",
      "[EPOCH]: 311, [LOSS]: 310.829082\n",
      "[EPOCH]: 312, [LOSS]: 310.821454\n",
      "[EPOCH]: 313, [LOSS]: 310.785593\n",
      "[EPOCH]: 314, [LOSS]: 310.765333\n",
      "[EPOCH]: 315, [LOSS]: 310.732651\n",
      "[EPOCH]: 316, [LOSS]: 310.700580\n",
      "[EPOCH]: 317, [LOSS]: 310.676345\n",
      "[EPOCH]: 318, [LOSS]: 310.644812\n",
      "[EPOCH]: 319, [LOSS]: 310.602835\n",
      "[EPOCH]: 320, [LOSS]: 310.525703\n",
      "[EPOCH]: 321, [LOSS]: 310.552900\n",
      "[EPOCH]: 322, [LOSS]: 310.490240\n",
      "[EPOCH]: 323, [LOSS]: 310.505274\n",
      "[EPOCH]: 324, [LOSS]: 310.485078\n",
      "[EPOCH]: 325, [LOSS]: 310.414001\n",
      "[EPOCH]: 326, [LOSS]: 310.414569\n",
      "[EPOCH]: 327, [LOSS]: 310.358104\n",
      "[EPOCH]: 328, [LOSS]: 310.337981\n",
      "[EPOCH]: 329, [LOSS]: 310.325560\n",
      "[EPOCH]: 330, [LOSS]: 310.300126\n",
      "[EPOCH]: 331, [LOSS]: 310.279758\n",
      "[EPOCH]: 332, [LOSS]: 310.261292\n",
      "[EPOCH]: 333, [LOSS]: 310.207556\n",
      "[EPOCH]: 334, [LOSS]: 310.158842\n",
      "[EPOCH]: 335, [LOSS]: 310.145055\n",
      "[EPOCH]: 336, [LOSS]: 310.137110\n",
      "[EPOCH]: 337, [LOSS]: 310.120608\n",
      "[EPOCH]: 338, [LOSS]: 310.061416\n",
      "[EPOCH]: 339, [LOSS]: 310.041150\n",
      "[EPOCH]: 340, [LOSS]: 310.018477\n",
      "[EPOCH]: 341, [LOSS]: 310.011519\n",
      "[EPOCH]: 342, [LOSS]: 309.985981\n",
      "[EPOCH]: 343, [LOSS]: 309.956233\n",
      "[EPOCH]: 344, [LOSS]: 309.944344\n",
      "[EPOCH]: 345, [LOSS]: 309.900536\n",
      "[EPOCH]: 346, [LOSS]: 309.878882\n",
      "[EPOCH]: 347, [LOSS]: 309.853138\n",
      "[EPOCH]: 348, [LOSS]: 309.815179\n",
      "[EPOCH]: 349, [LOSS]: 309.808267\n",
      "[EPOCH]: 350, [LOSS]: 309.768395\n",
      "[EPOCH]: 351, [LOSS]: 309.769475\n",
      "[EPOCH]: 352, [LOSS]: 309.740787\n",
      "[EPOCH]: 353, [LOSS]: 309.754920\n",
      "[EPOCH]: 354, [LOSS]: 309.718662\n",
      "[EPOCH]: 355, [LOSS]: 309.693973\n",
      "[EPOCH]: 356, [LOSS]: 309.663303\n",
      "[EPOCH]: 357, [LOSS]: 309.652612\n",
      "[EPOCH]: 358, [LOSS]: 309.594219\n",
      "[EPOCH]: 359, [LOSS]: 309.616928\n",
      "[EPOCH]: 360, [LOSS]: 309.601684\n",
      "[EPOCH]: 361, [LOSS]: 309.538964\n",
      "[EPOCH]: 362, [LOSS]: 309.523194\n",
      "[EPOCH]: 363, [LOSS]: 309.507895\n",
      "[EPOCH]: 364, [LOSS]: 309.481552\n",
      "[EPOCH]: 365, [LOSS]: 309.434438\n",
      "[EPOCH]: 366, [LOSS]: 309.427302\n",
      "[EPOCH]: 367, [LOSS]: 309.416312\n",
      "[EPOCH]: 368, [LOSS]: 309.357258\n",
      "[EPOCH]: 369, [LOSS]: 309.360603\n",
      "[EPOCH]: 370, [LOSS]: 309.332039\n",
      "[EPOCH]: 371, [LOSS]: 309.297571\n",
      "[EPOCH]: 372, [LOSS]: 309.281958\n",
      "[EPOCH]: 373, [LOSS]: 309.270102\n",
      "[EPOCH]: 374, [LOSS]: 309.255631\n",
      "[EPOCH]: 375, [LOSS]: 309.213338\n",
      "[EPOCH]: 376, [LOSS]: 309.191272\n",
      "[EPOCH]: 377, [LOSS]: 309.185994\n",
      "[EPOCH]: 378, [LOSS]: 309.176392\n",
      "[EPOCH]: 379, [LOSS]: 309.144445\n",
      "[EPOCH]: 380, [LOSS]: 309.117857\n",
      "[EPOCH]: 381, [LOSS]: 309.096878\n",
      "[EPOCH]: 382, [LOSS]: 309.097035\n",
      "[EPOCH]: 383, [LOSS]: 309.078570\n",
      "[EPOCH]: 384, [LOSS]: 309.048171\n",
      "[EPOCH]: 385, [LOSS]: 309.031312\n",
      "[EPOCH]: 386, [LOSS]: 308.981624\n",
      "[EPOCH]: 387, [LOSS]: 308.962314\n",
      "[EPOCH]: 388, [LOSS]: 308.959604\n",
      "[EPOCH]: 389, [LOSS]: 308.933736\n",
      "[EPOCH]: 390, [LOSS]: 308.902378\n",
      "[EPOCH]: 391, [LOSS]: 308.873253\n",
      "[EPOCH]: 392, [LOSS]: 308.872654\n",
      "[EPOCH]: 393, [LOSS]: 308.867283\n",
      "[EPOCH]: 394, [LOSS]: 308.835684\n",
      "[EPOCH]: 395, [LOSS]: 308.813552\n",
      "[EPOCH]: 396, [LOSS]: 308.760790\n",
      "[EPOCH]: 397, [LOSS]: 308.792009\n",
      "[EPOCH]: 398, [LOSS]: 308.778636\n",
      "[EPOCH]: 399, [LOSS]: 308.753572\n",
      "[EPOCH]: 400, [LOSS]: 308.722978\n",
      "[EPOCH]: 401, [LOSS]: 308.739401\n",
      "[EPOCH]: 402, [LOSS]: 308.731626\n",
      "[EPOCH]: 403, [LOSS]: 308.679711\n",
      "[EPOCH]: 404, [LOSS]: 308.669595\n",
      "[EPOCH]: 405, [LOSS]: 308.671796\n",
      "[EPOCH]: 406, [LOSS]: 308.675925\n",
      "[EPOCH]: 407, [LOSS]: 308.615155\n",
      "[EPOCH]: 408, [LOSS]: 308.595596\n",
      "[EPOCH]: 409, [LOSS]: 308.565220\n",
      "[EPOCH]: 410, [LOSS]: 308.579374\n",
      "[EPOCH]: 411, [LOSS]: 308.566830\n",
      "[EPOCH]: 412, [LOSS]: 308.543444\n",
      "[EPOCH]: 413, [LOSS]: 308.575512\n",
      "[EPOCH]: 414, [LOSS]: 308.537324\n",
      "[EPOCH]: 415, [LOSS]: 308.531680\n",
      "[EPOCH]: 416, [LOSS]: 308.505290\n",
      "[EPOCH]: 417, [LOSS]: 308.459848\n",
      "[EPOCH]: 418, [LOSS]: 308.473958\n",
      "[EPOCH]: 419, [LOSS]: 308.461521\n",
      "[EPOCH]: 420, [LOSS]: 308.440971\n",
      "[EPOCH]: 421, [LOSS]: 308.437186\n",
      "[EPOCH]: 422, [LOSS]: 308.387369\n",
      "[EPOCH]: 423, [LOSS]: 308.386708\n",
      "[EPOCH]: 424, [LOSS]: 308.371134\n",
      "[EPOCH]: 425, [LOSS]: 308.354318\n",
      "[EPOCH]: 426, [LOSS]: 308.357983\n",
      "[EPOCH]: 427, [LOSS]: 308.334424\n",
      "[EPOCH]: 428, [LOSS]: 308.328251\n",
      "[EPOCH]: 429, [LOSS]: 308.320956\n",
      "[EPOCH]: 430, [LOSS]: 308.300818\n",
      "[EPOCH]: 431, [LOSS]: 308.312372\n",
      "[EPOCH]: 432, [LOSS]: 308.275763\n",
      "[EPOCH]: 433, [LOSS]: 308.235495\n",
      "[EPOCH]: 434, [LOSS]: 308.247550\n",
      "[EPOCH]: 435, [LOSS]: 308.257134\n",
      "[EPOCH]: 436, [LOSS]: 308.241131\n",
      "[EPOCH]: 437, [LOSS]: 308.230580\n",
      "[EPOCH]: 438, [LOSS]: 308.199794\n",
      "[EPOCH]: 439, [LOSS]: 308.209128\n",
      "[EPOCH]: 440, [LOSS]: 308.180803\n",
      "[EPOCH]: 441, [LOSS]: 308.156113\n",
      "[EPOCH]: 442, [LOSS]: 308.147930\n",
      "[EPOCH]: 443, [LOSS]: 308.143225\n",
      "[EPOCH]: 444, [LOSS]: 308.090035\n",
      "[EPOCH]: 445, [LOSS]: 308.117774\n",
      "[EPOCH]: 446, [LOSS]: 308.104631\n",
      "[EPOCH]: 447, [LOSS]: 308.073896\n",
      "[EPOCH]: 448, [LOSS]: 308.065165\n",
      "[EPOCH]: 449, [LOSS]: 308.063130\n",
      "[EPOCH]: 450, [LOSS]: 308.050261\n",
      "[EPOCH]: 451, [LOSS]: 308.044296\n",
      "[EPOCH]: 452, [LOSS]: 308.034405\n",
      "[EPOCH]: 453, [LOSS]: 308.049361\n",
      "[EPOCH]: 454, [LOSS]: 308.012568\n",
      "[EPOCH]: 455, [LOSS]: 307.996925\n",
      "[EPOCH]: 456, [LOSS]: 307.984516\n",
      "[EPOCH]: 457, [LOSS]: 307.979615\n",
      "[EPOCH]: 458, [LOSS]: 307.965476\n",
      "[EPOCH]: 459, [LOSS]: 307.964792\n",
      "[EPOCH]: 460, [LOSS]: 307.953776\n",
      "[EPOCH]: 461, [LOSS]: 307.963853\n",
      "[EPOCH]: 462, [LOSS]: 307.942130\n",
      "[EPOCH]: 463, [LOSS]: 307.880477\n",
      "[EPOCH]: 464, [LOSS]: 307.910123\n",
      "[EPOCH]: 465, [LOSS]: 307.882346\n",
      "[EPOCH]: 466, [LOSS]: 307.865157\n",
      "[EPOCH]: 467, [LOSS]: 307.857950\n",
      "[EPOCH]: 468, [LOSS]: 307.834258\n",
      "[EPOCH]: 469, [LOSS]: 307.807351\n",
      "[EPOCH]: 470, [LOSS]: 307.811362\n",
      "[EPOCH]: 471, [LOSS]: 307.808112\n",
      "[EPOCH]: 472, [LOSS]: 307.806956\n",
      "[EPOCH]: 473, [LOSS]: 307.753023\n",
      "[EPOCH]: 474, [LOSS]: 307.770504\n",
      "[EPOCH]: 475, [LOSS]: 307.754926\n",
      "[EPOCH]: 476, [LOSS]: 307.778636\n",
      "[EPOCH]: 477, [LOSS]: 307.722851\n",
      "[EPOCH]: 478, [LOSS]: 307.722000\n",
      "[EPOCH]: 479, [LOSS]: 307.681097\n",
      "[EPOCH]: 480, [LOSS]: 307.685528\n",
      "[EPOCH]: 481, [LOSS]: 307.689890\n",
      "[EPOCH]: 482, [LOSS]: 307.673716\n",
      "[EPOCH]: 483, [LOSS]: 307.617655\n",
      "[EPOCH]: 484, [LOSS]: 307.666880\n",
      "[EPOCH]: 485, [LOSS]: 307.622707\n",
      "[EPOCH]: 486, [LOSS]: 307.626093\n",
      "[EPOCH]: 487, [LOSS]: 307.634579\n",
      "[EPOCH]: 488, [LOSS]: 307.590722\n",
      "[EPOCH]: 489, [LOSS]: 307.583540\n",
      "[EPOCH]: 490, [LOSS]: 307.586626\n",
      "[EPOCH]: 491, [LOSS]: 307.555153\n",
      "[EPOCH]: 492, [LOSS]: 307.546436\n",
      "[EPOCH]: 493, [LOSS]: 307.537390\n",
      "[EPOCH]: 494, [LOSS]: 307.566854\n",
      "[EPOCH]: 495, [LOSS]: 307.502701\n",
      "[EPOCH]: 496, [LOSS]: 307.502163\n",
      "[EPOCH]: 497, [LOSS]: 307.509025\n",
      "[EPOCH]: 498, [LOSS]: 307.485508\n",
      "[EPOCH]: 499, [LOSS]: 307.501666\n"
     ]
    }
   ],
   "source": [
    "losses = []\n",
    "n_itrations=500\n",
    "batch_size=256\n",
    "# torch.load(\"Walker2d_model_n=4\")\n",
    "loss_function = nn.MSELoss()\n",
    "optimizer = optim.Adam(model.parameters(), lr=0.0005)\n",
    "for itr in range (n_itrations):\n",
    "    if itr%50 ==0:\n",
    "        torch.save(model, \"Walker2d_model_n=4\")        \n",
    "    total_loss = 0\n",
    "    total_acc = []\n",
    "    for b in range (0, training_set.shape[0], batch_size):\n",
    "        y = torch.tensor(training_set[b:b+batch_size, 16:], dtype=torch.float)\n",
    "        y_pred = model(training_set[b:b+batch_size, 0:16])\n",
    "#         print(\"y_pred\", y_pred)\n",
    "        loss = loss_function(y_pred, y)\n",
    "        total_loss += loss.item()\n",
    "        optimizer.zero_grad()\n",
    "        loss.backward()\n",
    "        optimizer.step()\n",
    "    losses.append(total_loss)\n",
    "    print(\"[EPOCH]: %i, [LOSS]: %.6f\" % (itr, total_loss))\n",
    "#     print(\"[EPOCH]: %i, [LOSS]: %.6f ,[acc]: %.3f\" % (itr, total_loss, np.mean(np.array(total_acc))))"
   ]
  },
  {
   "cell_type": "code",
   "execution_count": 8,
   "metadata": {},
   "outputs": [
    {
     "data": {
      "image/png": "[encoded data removed]",
      "text/plain": [
       "<Figure size 432x288 with 1 Axes>"
      ]
     },
     "metadata": {
      "needs_background": "light"
     },
     "output_type": "display_data"
    }
   ],
   "source": [
    "torch.save(model, \"Walker2d_model_n=4\")\n",
    "plt.plot(losses)\n",
    "plt.xlabel(\"number of epochs\")\n",
    "plt.ylabel(\"loss\")\n",
    "plt.show()"
   ]
  },
  {
   "cell_type": "markdown",
   "metadata": {},
   "source": [
    "# test"
   ]
  },
  {
   "cell_type": "code",
   "execution_count": 9,
   "metadata": {},
   "outputs": [
    {
     "name": "stdout",
     "output_type": "stream",
     "text": [
      "y tensor([0.1229, 2.2998, 1.1321, 0.1326])\n",
      "y_pred tensor([ 0.0451,  2.3398,  0.8126, -0.1243], grad_fn=<AddBackward0>)\n",
      "loss 0.04392902925610542\n"
     ]
    },
    {
     "name": "stderr",
     "output_type": "stream",
     "text": [
      "/home/montaser/anaconda3/lib/python3.6/site-packages/ipykernel_launcher.py:1: UserWarning: To copy construct from a tensor, it is recommended to use sourceTensor.clone().detach() or sourceTensor.clone().detach().requires_grad_(True), rather than torch.tensor(sourceTensor).\n",
      "  \"\"\"Entry point for launching an IPython kernel.\n"
     ]
    }
   ],
   "source": [
    "y = torch.tensor(testing_set[203, 16:], dtype=torch.float)\n",
    "y_pred = model(testing_set[203, :16])\n",
    "print(\"y\",y)\n",
    "print(\"y_pred\",y_pred)\n",
    "print(\"loss\",loss_function(y_pred, y).item())"
   ]
  },
  {
   "cell_type": "code",
   "execution_count": 52,
   "metadata": {},
   "outputs": [],
   "source": [
    "def find_all_combination (n):\n",
    "    combination = torch.zeros((n*n,4*n), dtype=torch.float)\n",
    "    return torch.tensor([list(i) for i in itertools.product([0.0, 1.0], repeat=4*n)])"
   ]
  },
  {
   "cell_type": "markdown",
   "metadata": {},
   "source": [
    "# bca"
   ]
  },
  {
   "cell_type": "code",
   "execution_count": 29,
   "metadata": {},
   "outputs": [
    {
     "data": {
      "text/plain": [
       "Sequential(\n",
       "  (0): Linear(in_features=8, out_features=10, bias=True)\n",
       "  (1): ReLU()\n",
       "  (2): Linear(in_features=10, out_features=20, bias=True)\n",
       "  (3): ReLU()\n",
       "  (4): Linear(in_features=20, out_features=25, bias=True)\n",
       "  (5): ReLU()\n",
       "  (6): Linear(in_features=25, out_features=30, bias=True)\n",
       "  (7): ReLU()\n",
       ")"
      ]
     },
     "execution_count": 29,
     "metadata": {},
     "output_type": "execute_result"
    }
   ],
   "source": [
    "m = torch.load(\"Walker2d_model_n=2\")\n",
    "m[:8]"
   ]
  },
  {
   "cell_type": "code",
   "execution_count": 12,
   "metadata": {},
   "outputs": [],
   "source": [
    "def prepare_inputs (n): \n",
    "    m = -np.ones((1, 4*n))\n",
    "    o2 = -0.5*np.ones((1, 4*n ))\n",
    "    z = np.zeros((1, 4*n ))\n",
    "    o1 = 0.5*np.ones((1, 4*n ))\n",
    "    o = np.ones((1, 4*n ))\n",
    "    zom = torch.tensor(np.concatenate((m, o2, z, o1, o), 0), dtype=torch.float)\n",
    "    return zom"
   ]
  },
  {
   "cell_type": "code",
   "execution_count": 53,
   "metadata": {},
   "outputs": [
    {
     "data": {
      "text/plain": [
       "tensor([[0., 0., 0.,  ..., 0., 0., 0.],\n",
       "        [0., 0., 0.,  ..., 0., 0., 1.],\n",
       "        [0., 0., 0.,  ..., 0., 1., 0.],\n",
       "        ...,\n",
       "        [1., 1., 1.,  ..., 1., 0., 1.],\n",
       "        [1., 1., 1.,  ..., 1., 1., 0.],\n",
       "        [1., 1., 1.,  ..., 1., 1., 1.]])"
      ]
     },
     "execution_count": 53,
     "metadata": {},
     "output_type": "execute_result"
    }
   ],
   "source": [
    "# zom = prepare_inputs (4)\n",
    "zom = find_all_combination (2)\n",
    "zom"
   ]
  },
  {
   "cell_type": "code",
   "execution_count": 54,
   "metadata": {},
   "outputs": [
    {
     "data": {
      "text/plain": [
       "(256, 30)"
      ]
     },
     "execution_count": 54,
     "metadata": {},
     "output_type": "execute_result"
    }
   ],
   "source": [
    "vectors = m[:8](zom).detach().numpy()\n",
    "vectors.shape"
   ]
  },
  {
   "cell_type": "code",
   "execution_count": 55,
   "metadata": {},
   "outputs": [
    {
     "data": {
      "text/plain": [
       "(256, 2)"
      ]
     },
     "execution_count": 55,
     "metadata": {},
     "output_type": "execute_result"
    }
   ],
   "source": [
    "pca = PCA(n_components=2, svd_solver='full' ).fit_transform(vectors)\n",
    "pca.shape"
   ]
  },
  {
   "cell_type": "code",
   "execution_count": 16,
   "metadata": {},
   "outputs": [
    {
     "data": {
      "image/png": "[encoded data removed]",
      "text/plain": [
       "<Figure size 432x288 with 1 Axes>"
      ]
     },
     "metadata": {
      "needs_background": "light"
     },
     "output_type": "display_data"
    }
   ],
   "source": [
    "# for i in range (pca.shape[0]):\n",
    "#     plt.plot(list(pca[i])[0], list(pca[i])[1] ,\"o\", label=\"{}\".format(i))\n",
    "plt.plot(list(pca[0])[0], list(pca[0])[1] ,\"o\", label=\"-1 vector\")\n",
    "plt.plot(list(pca[1])[0], list(pca[1])[1] ,\"o\", label=\"-0.5 vector\")\n",
    "plt.plot(list(pca[2])[0], list(pca[2])[1] ,\"o\", label=\"0 vector\")\n",
    "plt.plot(list(pca[3])[0], list(pca[3])[1] ,\"o\", label=\"+0.5 vector\")\n",
    "plt.plot(list(pca[4])[0], list(pca[4])[1] ,\"o\", label=\"+1 vector\")\n",
    "plt.title(\"Walker2d Actions Embedding n=4\")\n",
    "plt.legend()\n",
    "# plt.savefig(\"fig/Walker2d_n=4\", dpi=600)"
   ]
  },
  {
   "cell_type": "markdown",
   "metadata": {},
   "source": [
    "# Kmeans"
   ]
  },
  {
   "cell_type": "code",
   "execution_count": 60,
   "metadata": {},
   "outputs": [
    {
     "data": {
      "text/plain": [
       "Text(0.5,1,'Unevenly Sized Blobs')"
      ]
     },
     "execution_count": 60,
     "metadata": {},
     "output_type": "execute_result"
    },
    {
     "data": {
      "image/png": "[encoded data removed]",
      "text/plain": [
       "<Figure size 432x288 with 1 Axes>"
      ]
     },
     "metadata": {
      "needs_background": "light"
     },
     "output_type": "display_data"
    }
   ],
   "source": [
    "kmean = KMeans(n_clusters=2, random_state=0).fit_predict(pca)\n",
    "plt.scatter(pca[:, 0], pca[:, 1], c=kmean)\n",
    "plt.plot(list(pca[0])[0], list(pca[0])[1] ,\"x\", label=\"0 vector\")\n",
    "plt.plot(list(pca[200])[0], list(pca[200])[1] ,\"x\", label=\"0.5 vector\")\n",
    "plt.plot(list(pca[-1])[0], list(pca[-1])[1] ,\"x\", label=\"1 vector\")\n",
    "plt.legend()\n",
    "plt.title(\"Unevenly Sized Blobs\")"
   ]
  },
  {
   "cell_type": "code",
   "execution_count": null,
   "metadata": {},
   "outputs": [],
   "source": []
  }
 ],
 "metadata": {
  "kernelspec": {
   "display_name": "Python 3",
   "language": "python",
   "name": "python3"
  },
  "language_info": {
   "codemirror_mode": {
    "name": "ipython",
    "version": 3
   },
   "file_extension": ".py",
   "mimetype": "text/x-python",
   "name": "python",
   "nbconvert_exporter": "python",
   "pygments_lexer": "ipython3",
   "version": "3.6.8"
  }
 },
 "nbformat": 4,
 "nbformat_minor": 2
}
